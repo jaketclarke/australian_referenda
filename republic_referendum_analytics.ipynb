{
 "cells": [
  {
   "cell_type": "markdown",
   "metadata": {},
   "source": [
    "# Notebook to play with the 1999 Republic Referendum data\n",
    "\n",
    "Thanks to Zach A for repeatedly nudging me to do this\n",
    "\n",
    "Thanks to David Michael for the data"
   ]
  },
  {
   "cell_type": "markdown",
   "metadata": {},
   "source": [
    "## Libraries"
   ]
  },
  {
   "cell_type": "code",
   "execution_count": 1,
   "metadata": {
    "collapsed": true
   },
   "outputs": [],
   "source": [
    "import pandas as pd"
   ]
  },
  {
   "cell_type": "markdown",
   "metadata": {},
   "source": [
    "## Create file by polling place\n",
    "\n",
    "The input file here is by polling place by electorate\n",
    "\n",
    "I want a file just by polling place - for mapping et al"
   ]
  },
  {
   "cell_type": "code",
   "execution_count": 3,
   "metadata": {},
   "outputs": [
    {
     "data": {
      "text/html": [
       "<div>\n",
       "<style>\n",
       "    .dataframe thead tr:only-child th {\n",
       "        text-align: right;\n",
       "    }\n",
       "\n",
       "    .dataframe thead th {\n",
       "        text-align: left;\n",
       "    }\n",
       "\n",
       "    .dataframe tbody tr th {\n",
       "        vertical-align: top;\n",
       "    }\n",
       "</style>\n",
       "<table border=\"1\" class=\"dataframe\">\n",
       "  <thead>\n",
       "    <tr style=\"text-align: right;\">\n",
       "      <th></th>\n",
       "      <th>state</th>\n",
       "      <th>electorate</th>\n",
       "      <th>polling_place</th>\n",
       "      <th>polling_place_raw</th>\n",
       "      <th>yes_or_no</th>\n",
       "      <th>yes_n</th>\n",
       "      <th>yes_p</th>\n",
       "      <th>no_n</th>\n",
       "      <th>no_p</th>\n",
       "      <th>formal_n</th>\n",
       "      <th>formal_p</th>\n",
       "      <th>informal_n</th>\n",
       "      <th>informal_p</th>\n",
       "      <th>total_n</th>\n",
       "      <th>total_p</th>\n",
       "    </tr>\n",
       "  </thead>\n",
       "  <tbody>\n",
       "    <tr>\n",
       "      <th>0</th>\n",
       "      <td>SA</td>\n",
       "      <td>Adelaide</td>\n",
       "      <td>Adelaide East</td>\n",
       "      <td>Adelaide East</td>\n",
       "      <td>Yes</td>\n",
       "      <td>465</td>\n",
       "      <td>0.6700</td>\n",
       "      <td>229</td>\n",
       "      <td>0.3300</td>\n",
       "      <td>694</td>\n",
       "      <td>0.9914</td>\n",
       "      <td>6</td>\n",
       "      <td>0.0086</td>\n",
       "      <td>700</td>\n",
       "      <td>0.0086</td>\n",
       "    </tr>\n",
       "    <tr>\n",
       "      <th>1</th>\n",
       "      <td>SA</td>\n",
       "      <td>Adelaide</td>\n",
       "      <td>Adelaide Hospital</td>\n",
       "      <td>Adelaide Hospital</td>\n",
       "      <td>Yes</td>\n",
       "      <td>187</td>\n",
       "      <td>0.6172</td>\n",
       "      <td>116</td>\n",
       "      <td>0.3828</td>\n",
       "      <td>303</td>\n",
       "      <td>0.9806</td>\n",
       "      <td>6</td>\n",
       "      <td>0.0194</td>\n",
       "      <td>309</td>\n",
       "      <td>0.0038</td>\n",
       "    </tr>\n",
       "    <tr>\n",
       "      <th>2</th>\n",
       "      <td>SA</td>\n",
       "      <td>Adelaide</td>\n",
       "      <td>Adelaide South</td>\n",
       "      <td>Adelaide South</td>\n",
       "      <td>Yes</td>\n",
       "      <td>1056</td>\n",
       "      <td>0.6467</td>\n",
       "      <td>577</td>\n",
       "      <td>0.3533</td>\n",
       "      <td>1633</td>\n",
       "      <td>0.9903</td>\n",
       "      <td>16</td>\n",
       "      <td>0.0097</td>\n",
       "      <td>1649</td>\n",
       "      <td>0.0202</td>\n",
       "    </tr>\n",
       "  </tbody>\n",
       "</table>\n",
       "</div>"
      ],
      "text/plain": [
       "  state electorate      polling_place  polling_place_raw yes_or_no  yes_n  \\\n",
       "0    SA   Adelaide      Adelaide East      Adelaide East       Yes    465   \n",
       "1    SA   Adelaide  Adelaide Hospital  Adelaide Hospital       Yes    187   \n",
       "2    SA   Adelaide     Adelaide South     Adelaide South       Yes   1056   \n",
       "\n",
       "    yes_p  no_n    no_p  formal_n  formal_p  informal_n  informal_p  total_n  \\\n",
       "0  0.6700   229  0.3300       694    0.9914           6      0.0086      700   \n",
       "1  0.6172   116  0.3828       303    0.9806           6      0.0194      309   \n",
       "2  0.6467   577  0.3533      1633    0.9903          16      0.0097     1649   \n",
       "\n",
       "   total_p  \n",
       "0   0.0086  \n",
       "1   0.0038  \n",
       "2   0.0202  "
      ]
     },
     "execution_count": 3,
     "metadata": {},
     "output_type": "execute_result"
    }
   ],
   "source": [
    "filepath = '1999_referenda_output/republic_referendum_by_electorate_by_polling_place.csv'\n",
    "\n",
    "df_republic = pd.read_csv(\n",
    "    filepath\n",
    ")\n",
    "\n",
    "df_republic.head(3)"
   ]
  }
 ],
 "metadata": {
  "kernelspec": {
   "display_name": "Python 3",
   "language": "python",
   "name": "python3"
  },
  "language_info": {
   "codemirror_mode": {
    "name": "ipython",
    "version": 3
   },
   "file_extension": ".py",
   "mimetype": "text/x-python",
   "name": "python",
   "nbconvert_exporter": "python",
   "pygments_lexer": "ipython3",
   "version": "3.6.1"
  }
 },
 "nbformat": 4,
 "nbformat_minor": 2
}
