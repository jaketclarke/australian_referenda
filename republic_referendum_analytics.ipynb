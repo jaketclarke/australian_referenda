{
 "cells": [
  {
   "cell_type": "markdown",
   "metadata": {},
   "source": [
    "# Notebook for analytics on the result of the republic referendum"
   ]
  },
  {
   "cell_type": "markdown",
   "metadata": {},
   "source": [
    "### Libraries"
   ]
  },
  {
   "cell_type": "code",
   "execution_count": 13,
   "metadata": {
    "collapsed": true
   },
   "outputs": [],
   "source": [
    "import pandas as pd\n",
    "import numpy as np\n",
    "from IPython.display import display, HTML"
   ]
  },
  {
   "cell_type": "code",
   "execution_count": 14,
   "metadata": {},
   "outputs": [
    {
     "data": {
      "text/html": [
       "<div>\n",
       "<style>\n",
       "    .dataframe thead tr:only-child th {\n",
       "        text-align: right;\n",
       "    }\n",
       "\n",
       "    .dataframe thead th {\n",
       "        text-align: left;\n",
       "    }\n",
       "\n",
       "    .dataframe tbody tr th {\n",
       "        vertical-align: top;\n",
       "    }\n",
       "</style>\n",
       "<table border=\"1\" class=\"dataframe\">\n",
       "  <thead>\n",
       "    <tr style=\"text-align: right;\">\n",
       "      <th></th>\n",
       "      <th>state</th>\n",
       "      <th>polling_place</th>\n",
       "      <th>yes_n</th>\n",
       "      <th>no_n</th>\n",
       "      <th>formal_n</th>\n",
       "      <th>informal_n</th>\n",
       "      <th>total_n</th>\n",
       "    </tr>\n",
       "  </thead>\n",
       "  <tbody>\n",
       "    <tr>\n",
       "      <th>0</th>\n",
       "      <td>ACT</td>\n",
       "      <td>Ainslie North</td>\n",
       "      <td>1608</td>\n",
       "      <td>749</td>\n",
       "      <td>2357</td>\n",
       "      <td>29</td>\n",
       "      <td>2386</td>\n",
       "    </tr>\n",
       "    <tr>\n",
       "      <th>1</th>\n",
       "      <td>ACT</td>\n",
       "      <td>Aranda</td>\n",
       "      <td>2200</td>\n",
       "      <td>787</td>\n",
       "      <td>2987</td>\n",
       "      <td>21</td>\n",
       "      <td>3008</td>\n",
       "    </tr>\n",
       "    <tr>\n",
       "      <th>2</th>\n",
       "      <td>ACT</td>\n",
       "      <td>Baker Gardens</td>\n",
       "      <td>398</td>\n",
       "      <td>230</td>\n",
       "      <td>628</td>\n",
       "      <td>5</td>\n",
       "      <td>633</td>\n",
       "    </tr>\n",
       "  </tbody>\n",
       "</table>\n",
       "</div>"
      ],
      "text/plain": [
       "  state  polling_place  yes_n  no_n  formal_n  informal_n  total_n\n",
       "0   ACT  Ainslie North   1608   749      2357          29     2386\n",
       "1   ACT         Aranda   2200   787      2987          21     3008\n",
       "2   ACT  Baker Gardens    398   230       628           5      633"
      ]
     },
     "metadata": {},
     "output_type": "display_data"
    }
   ],
   "source": [
    "filepath = '1999_referenda_output/republic_referendum_by_polling_place.csv'\n",
    "df_results = pd.read_csv(\n",
    "    filepath\n",
    ")\n",
    "\n",
    "display(df_results.head(3))"
   ]
  },
  {
   "cell_type": "code",
   "execution_count": 15,
   "metadata": {},
   "outputs": [
    {
     "data": {
      "text/html": [
       "<div>\n",
       "<style>\n",
       "    .dataframe thead tr:only-child th {\n",
       "        text-align: right;\n",
       "    }\n",
       "\n",
       "    .dataframe thead th {\n",
       "        text-align: left;\n",
       "    }\n",
       "\n",
       "    .dataframe tbody tr th {\n",
       "        vertical-align: top;\n",
       "    }\n",
       "</style>\n",
       "<table border=\"1\" class=\"dataframe\">\n",
       "  <thead>\n",
       "    <tr style=\"text-align: right;\">\n",
       "      <th></th>\n",
       "      <th>state</th>\n",
       "      <th>polling_place</th>\n",
       "      <th>premises</th>\n",
       "      <th>address</th>\n",
       "      <th>suburb</th>\n",
       "      <th>postcode</th>\n",
       "      <th>wheelchair_access</th>\n",
       "      <th>match_source</th>\n",
       "      <th>match_type</th>\n",
       "      <th>latitude</th>\n",
       "      <th>longitude</th>\n",
       "    </tr>\n",
       "  </thead>\n",
       "  <tbody>\n",
       "    <tr>\n",
       "      <th>0</th>\n",
       "      <td>ACT</td>\n",
       "      <td>Bonython</td>\n",
       "      <td>Bonython Primary School</td>\n",
       "      <td>Hurtle Ave</td>\n",
       "      <td>BONYTHON</td>\n",
       "      <td>2905.0</td>\n",
       "      <td>F</td>\n",
       "      <td>2007 Polling Places</td>\n",
       "      <td>Match 01 - state, premises, postcode</td>\n",
       "      <td>-35.4318</td>\n",
       "      <td>149.083</td>\n",
       "    </tr>\n",
       "    <tr>\n",
       "      <th>1</th>\n",
       "      <td>ACT</td>\n",
       "      <td>Calwell</td>\n",
       "      <td>Calwell High School</td>\n",
       "      <td>Casey Cres</td>\n",
       "      <td>CALWELL</td>\n",
       "      <td>2905.0</td>\n",
       "      <td>F</td>\n",
       "      <td>2007 Polling Places</td>\n",
       "      <td>Match 01 - state, premises, postcode</td>\n",
       "      <td>-35.4406</td>\n",
       "      <td>149.116</td>\n",
       "    </tr>\n",
       "    <tr>\n",
       "      <th>2</th>\n",
       "      <td>ACT</td>\n",
       "      <td>Canberra Hospital</td>\n",
       "      <td>The Canberra Hospital</td>\n",
       "      <td>Blding 2 Level 3 Yamba Dr</td>\n",
       "      <td>GARRAN</td>\n",
       "      <td>2605.0</td>\n",
       "      <td>F</td>\n",
       "      <td>2007 Polling Places</td>\n",
       "      <td>Match 01 - state, premises, postcode</td>\n",
       "      <td>-35.3453</td>\n",
       "      <td>149.100</td>\n",
       "    </tr>\n",
       "  </tbody>\n",
       "</table>\n",
       "</div>"
      ],
      "text/plain": [
       "  state      polling_place                 premises  \\\n",
       "0   ACT           Bonython  Bonython Primary School   \n",
       "1   ACT            Calwell      Calwell High School   \n",
       "2   ACT  Canberra Hospital    The Canberra Hospital   \n",
       "\n",
       "                     address    suburb  postcode wheelchair_access  \\\n",
       "0                 Hurtle Ave  BONYTHON    2905.0                 F   \n",
       "1                 Casey Cres   CALWELL    2905.0                 F   \n",
       "2  Blding 2 Level 3 Yamba Dr    GARRAN    2605.0                 F   \n",
       "\n",
       "          match_source                            match_type  latitude  \\\n",
       "0  2007 Polling Places  Match 01 - state, premises, postcode  -35.4318   \n",
       "1  2007 Polling Places  Match 01 - state, premises, postcode  -35.4406   \n",
       "2  2007 Polling Places  Match 01 - state, premises, postcode  -35.3453   \n",
       "\n",
       "   longitude  \n",
       "0    149.083  \n",
       "1    149.116  \n",
       "2    149.100  "
      ]
     },
     "metadata": {},
     "output_type": "display_data"
    }
   ],
   "source": [
    "filepath = '1999_referenda_output/polling_places_geocoded.csv'\n",
    "df_pp = pd.read_csv(\n",
    "    filepath\n",
    ")\n",
    "\n",
    "display(df_pp.head(3))"
   ]
  },
  {
   "cell_type": "code",
   "execution_count": null,
   "metadata": {
    "collapsed": true
   },
   "outputs": [],
   "source": []
  }
 ],
 "metadata": {
  "kernelspec": {
   "display_name": "Python 3",
   "language": "python",
   "name": "python3"
  },
  "language_info": {
   "codemirror_mode": {
    "name": "ipython",
    "version": 3
   },
   "file_extension": ".py",
   "mimetype": "text/x-python",
   "name": "python",
   "nbconvert_exporter": "python",
   "pygments_lexer": "ipython3",
   "version": "3.6.1"
  }
 },
 "nbformat": 4,
 "nbformat_minor": 2
}
