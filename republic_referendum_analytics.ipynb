{
 "cells": [
  {
   "cell_type": "markdown",
   "metadata": {},
   "source": [
    "# Notebook to play with the 1999 Republic Referendum data\n",
    "\n",
    "Thanks to Zach A for repeatedly nudging me to do this\n",
    "\n",
    "Thanks to David Michael for the data"
   ]
  },
  {
   "cell_type": "markdown",
   "metadata": {},
   "source": [
    "## Libraries"
   ]
  },
  {
   "cell_type": "code",
   "execution_count": 1,
   "metadata": {
    "collapsed": true
   },
   "outputs": [],
   "source": [
    "import pandas as pd"
   ]
  },
  {
   "cell_type": "markdown",
   "metadata": {},
   "source": [
    "## Create file by polling place\n",
    "\n",
    "The input file here is by polling place by electorate\n",
    "\n",
    "I want a file just by polling place - for mapping et al"
   ]
  },
  {
   "cell_type": "code",
   "execution_count": 20,
   "metadata": {},
   "outputs": [],
   "source": [
    "filepath = '1999_referenda_output/republic_referendum_by_electorate_by_polling_place.csv'\n",
    "\n",
    "df_republic = pd.read_csv(\n",
    "    filepath\n",
    ")\n",
    "\n",
    "df_republic.head(3)\n",
    "\n",
    "# limit columns\n",
    "df_republic_by_pp = df_republic[[\n",
    "    'state',\n",
    "    'polling_place',\n",
    "    'yes_n',\n",
    "    'no_n',\n",
    "    'formal_n',\n",
    "    'informal_n',\n",
    "    'total_n'    \n",
    "]]\n",
    "\n",
    "# group by state and polling_place, sum other columns\n",
    "df_republic_by_pp = df_republic_by_pp.groupby(['state','polling_place']).sum()\n",
    "\n",
    "df_republic_by_pp = df_republic_by_pp.reset_index()\n",
    "\n",
    "# output to csv\n",
    "outfile = '1999_referenda_output/republic_referendum_by_polling_place.csv'\n",
    "\n",
    "# write file\n",
    "df_republic_by_pp.to_csv(\n",
    "    outfile,\n",
    "    sep=',',\n",
    "    index=False,\n",
    "    encoding='UTF8'\n",
    ")"
   ]
  },
  {
   "cell_type": "markdown",
   "metadata": {},
   "source": [
    "### To Do:\n",
    "* Match to Lat Long\n",
    "* Remove summary rows (absent) from above to make a 'ordinary only' file"
   ]
  }
 ],
 "metadata": {
  "kernelspec": {
   "display_name": "Python 3",
   "language": "python",
   "name": "python3"
  },
  "language_info": {
   "codemirror_mode": {
    "name": "ipython",
    "version": 3
   },
   "file_extension": ".py",
   "mimetype": "text/x-python",
   "name": "python",
   "nbconvert_exporter": "python",
   "pygments_lexer": "ipython3",
   "version": "3.6.1"
  }
 },
 "nbformat": 4,
 "nbformat_minor": 2
}
