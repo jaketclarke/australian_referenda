{
 "cells": [
  {
   "cell_type": "markdown",
   "metadata": {},
   "source": [
    "# Notebook to add co-ordinates for 1999 Polling Places\n",
    "\n",
    "The AEC started putting co-ordinates on polling place files from 2007.\n",
    "\n",
    "The code below matches to 2007 polling places, where a name match between the 1999 polling place and the 2007 polling place is unique.\n",
    "\n",
    "This will not be perfect, but should provide co-ordinates approximating the location of the polling place for the referendum."
   ]
  },
  {
   "cell_type": "markdown",
   "metadata": {},
   "source": [
    "## Libraries"
   ]
  },
  {
   "cell_type": "code",
   "execution_count": 42,
   "metadata": {
    "collapsed": true
   },
   "outputs": [],
   "source": [
    "import pandas as pd"
   ]
  },
  {
   "cell_type": "markdown",
   "metadata": {},
   "source": [
    "## Functions"
   ]
  },
  {
   "cell_type": "code",
   "execution_count": 43,
   "metadata": {},
   "outputs": [
    {
     "data": {
      "text/html": [
       "<div>\n",
       "<style>\n",
       "    .dataframe thead tr:only-child th {\n",
       "        text-align: right;\n",
       "    }\n",
       "\n",
       "    .dataframe thead th {\n",
       "        text-align: left;\n",
       "    }\n",
       "\n",
       "    .dataframe tbody tr th {\n",
       "        vertical-align: top;\n",
       "    }\n",
       "</style>\n",
       "<table border=\"1\" class=\"dataframe\">\n",
       "  <thead>\n",
       "    <tr style=\"text-align: right;\">\n",
       "      <th></th>\n",
       "      <th>State</th>\n",
       "      <th>DivisionID</th>\n",
       "      <th>DivisionNm</th>\n",
       "      <th>PollingPlaceID</th>\n",
       "      <th>PollingPlaceTypeID</th>\n",
       "      <th>PollingPlaceNm</th>\n",
       "      <th>PremisesNm</th>\n",
       "      <th>PremisesAddress1</th>\n",
       "      <th>PremisesAddress2</th>\n",
       "      <th>PremisesAddress3</th>\n",
       "      <th>PremisesSuburb</th>\n",
       "      <th>PremisesStateAb</th>\n",
       "      <th>PremisesPostCode</th>\n",
       "      <th>Latitude</th>\n",
       "      <th>Longitude</th>\n",
       "    </tr>\n",
       "  </thead>\n",
       "  <tbody>\n",
       "    <tr>\n",
       "      <th>0</th>\n",
       "      <td>NSW</td>\n",
       "      <td>251</td>\n",
       "      <td>Watson</td>\n",
       "      <td>1</td>\n",
       "      <td>1</td>\n",
       "      <td>Beverly Hills North</td>\n",
       "      <td>Beverly Hills North Public School</td>\n",
       "      <td>cnr Shorter Ave &amp; King Georges Rd</td>\n",
       "      <td>NaN</td>\n",
       "      <td>NaN</td>\n",
       "      <td>BEVERLY HILLS</td>\n",
       "      <td>NSW</td>\n",
       "      <td>2209.0</td>\n",
       "      <td>-33.9413</td>\n",
       "      <td>151.075</td>\n",
       "    </tr>\n",
       "    <tr>\n",
       "      <th>1</th>\n",
       "      <td>NSW</td>\n",
       "      <td>103</td>\n",
       "      <td>Banks</td>\n",
       "      <td>2</td>\n",
       "      <td>1</td>\n",
       "      <td>East Hills</td>\n",
       "      <td>1st East Hills Scout Hall</td>\n",
       "      <td>cnr Henry Lawson Dr &amp; MacLaurin Ave</td>\n",
       "      <td>NaN</td>\n",
       "      <td>NaN</td>\n",
       "      <td>EAST HILLS</td>\n",
       "      <td>NSW</td>\n",
       "      <td>2213.0</td>\n",
       "      <td>-33.9637</td>\n",
       "      <td>150.987</td>\n",
       "    </tr>\n",
       "    <tr>\n",
       "      <th>2</th>\n",
       "      <td>NSW</td>\n",
       "      <td>251</td>\n",
       "      <td>Watson</td>\n",
       "      <td>3</td>\n",
       "      <td>1</td>\n",
       "      <td>Hannans Road (Watson)</td>\n",
       "      <td>Hannans Road Public School</td>\n",
       "      <td>Hannans Rd</td>\n",
       "      <td>NaN</td>\n",
       "      <td>NaN</td>\n",
       "      <td>RIVERWOOD</td>\n",
       "      <td>NSW</td>\n",
       "      <td>2210.0</td>\n",
       "      <td>-33.9459</td>\n",
       "      <td>151.058</td>\n",
       "    </tr>\n",
       "  </tbody>\n",
       "</table>\n",
       "</div>"
      ],
      "text/plain": [
       "  State  DivisionID DivisionNm  PollingPlaceID  PollingPlaceTypeID  \\\n",
       "0   NSW         251     Watson               1                   1   \n",
       "1   NSW         103      Banks               2                   1   \n",
       "2   NSW         251     Watson               3                   1   \n",
       "\n",
       "          PollingPlaceNm                         PremisesNm  \\\n",
       "0    Beverly Hills North  Beverly Hills North Public School   \n",
       "1             East Hills          1st East Hills Scout Hall   \n",
       "2  Hannans Road (Watson)         Hannans Road Public School   \n",
       "\n",
       "                      PremisesAddress1 PremisesAddress2 PremisesAddress3  \\\n",
       "0    cnr Shorter Ave & King Georges Rd              NaN              NaN   \n",
       "1  cnr Henry Lawson Dr & MacLaurin Ave              NaN              NaN   \n",
       "2                           Hannans Rd              NaN              NaN   \n",
       "\n",
       "  PremisesSuburb PremisesStateAb  PremisesPostCode  Latitude  Longitude  \n",
       "0  BEVERLY HILLS             NSW            2209.0  -33.9413    151.075  \n",
       "1     EAST HILLS             NSW            2213.0  -33.9637    150.987  \n",
       "2      RIVERWOOD             NSW            2210.0  -33.9459    151.058  "
      ]
     },
     "execution_count": 43,
     "metadata": {},
     "output_type": "execute_result"
    }
   ],
   "source": [
    "## 2007 was the first year for which the AE\n",
    "\n",
    "# pull in polling places\n",
    "filepath = 'federal_election_polling_places/pp_2007_election.csv'\n",
    "\n",
    "df_pp = pd.read_csv(\n",
    "    filepath\n",
    ")\n",
    "\n",
    "df_pp.head(3)"
   ]
  }
 ],
 "metadata": {
  "kernelspec": {
   "display_name": "Python 3",
   "language": "python",
   "name": "python3"
  },
  "language_info": {
   "codemirror_mode": {
    "name": "ipython",
    "version": 3
   },
   "file_extension": ".py",
   "mimetype": "text/x-python",
   "name": "python",
   "nbconvert_exporter": "python",
   "pygments_lexer": "ipython3",
   "version": "3.6.1"
  }
 },
 "nbformat": 4,
 "nbformat_minor": 2
}
