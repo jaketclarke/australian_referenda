{
 "cells": [
  {
   "cell_type": "markdown",
   "metadata": {},
   "source": [
    "# Notebook to add co-ordinates for 1999 Polling Places\n",
    "\n",
    "The AEC started putting co-ordinates on polling place files from 2007.\n",
    "\n",
    "The code below matches to 2007 polling places, where the name of the venue is the same.\n",
    "\n",
    "While not perfect, this should result the vast majority of the time in a co-ordinate closely representing the location of the polling location in 1999"
   ]
  },
  {
   "cell_type": "markdown",
   "metadata": {},
   "source": [
    "### Libraries"
   ]
  },
  {
   "cell_type": "code",
   "execution_count": 19,
   "metadata": {
    "collapsed": true
   },
   "outputs": [],
   "source": [
    "import pandas as pd\n",
    "import numpy as np"
   ]
  },
  {
   "cell_type": "markdown",
   "metadata": {},
   "source": [
    "### Helper functions"
   ]
  },
  {
   "cell_type": "code",
   "execution_count": 20,
   "metadata": {
    "collapsed": true
   },
   "outputs": [],
   "source": [
    "def left_of_bracket(s):\n",
    "    if '(' in s:\n",
    "        needle = s.find('(')\n",
    "        r = s[:needle-1].strip()\n",
    "        return r\n",
    "    else:\n",
    "        return s"
   ]
  },
  {
   "cell_type": "markdown",
   "metadata": {},
   "source": [
    "### Import polling places"
   ]
  },
  {
   "cell_type": "markdown",
   "metadata": {},
   "source": [
    "`import_polling_places(filepath)`\n",
    "* Takes a path to a polling place file\n",
    "* Returns a tidy data frame\n",
    "    * Renames some columns\n",
    "    * Dedups on `['state','polling_place']`"
   ]
  },
  {
   "cell_type": "code",
   "execution_count": 21,
   "metadata": {
    "collapsed": true
   },
   "outputs": [],
   "source": [
    "def import_polling_places(filepath):\n",
    "    \n",
    "    # read csv\n",
    "    df_pp = pd.read_csv(\n",
    "        filepath\n",
    "    )\n",
    "    \n",
    "    # pick the columns I want to keep\n",
    "    cols = [\n",
    "        'State',\n",
    "        'PollingPlaceNm',\n",
    "        'PremisesNm',\n",
    "        'PremisesAddress1',\n",
    "        'PremisesAddress2',\n",
    "        'PremisesAddress3',\n",
    "        'PremisesSuburb',\n",
    "        'PremisesStateAb',\n",
    "        'PremisesPostCode',\n",
    "        'Latitude',\n",
    "        'Longitude'\n",
    "    ]\n",
    "    \n",
    "    # filter for those\n",
    "    df_pp = df_pp[cols]\n",
    "\n",
    "    # create a polling place column missing the bracket\n",
    "    lambda_polling_places = lambda x: left_of_bracket(x)\n",
    "    df_pp['polling_place'] = df_pp['PollingPlaceNm'].apply(lambda_polling_places)\n",
    "\n",
    "    # rename columns to make joining easier\n",
    "    df_pp['premises'] = df_pp['PremisesNm']\n",
    "    df_pp['postcode'] = df_pp['PremisesPostCode']\n",
    "\n",
    "    # replace in the col headers list where I've modified/added the column\n",
    "    cols = [c.replace('PollingPlaceNm', 'polling_place') for c in cols]\n",
    "    cols = [c.replace('PremisesNm', 'premises') for c in cols]\n",
    "    cols = [c.replace('PremisesPostCode', 'postcode') for c in cols]\n",
    "    \n",
    "    # reorder df\n",
    "    df_pp = df_pp[cols]\n",
    "\n",
    "    # dedup\n",
    "    df_pp = df_pp.drop_duplicates()\n",
    "\n",
    "    # make all headers lower case\n",
    "    df_pp.columns = [x.lower() for x in df_pp.columns]\n",
    "    \n",
    "    return df_pp"
   ]
  },
  {
   "cell_type": "code",
   "execution_count": 22,
   "metadata": {},
   "outputs": [
    {
     "data": {
      "text/html": [
       "<div>\n",
       "<style>\n",
       "    .dataframe thead tr:only-child th {\n",
       "        text-align: right;\n",
       "    }\n",
       "\n",
       "    .dataframe thead th {\n",
       "        text-align: left;\n",
       "    }\n",
       "\n",
       "    .dataframe tbody tr th {\n",
       "        vertical-align: top;\n",
       "    }\n",
       "</style>\n",
       "<table border=\"1\" class=\"dataframe\">\n",
       "  <thead>\n",
       "    <tr style=\"text-align: right;\">\n",
       "      <th></th>\n",
       "      <th>state</th>\n",
       "      <th>polling_place</th>\n",
       "      <th>premises</th>\n",
       "      <th>premisesaddress1</th>\n",
       "      <th>premisesaddress2</th>\n",
       "      <th>premisesaddress3</th>\n",
       "      <th>premisessuburb</th>\n",
       "      <th>premisesstateab</th>\n",
       "      <th>postcode</th>\n",
       "      <th>latitude</th>\n",
       "      <th>longitude</th>\n",
       "    </tr>\n",
       "  </thead>\n",
       "  <tbody>\n",
       "    <tr>\n",
       "      <th>0</th>\n",
       "      <td>NSW</td>\n",
       "      <td>Beverly Hills North</td>\n",
       "      <td>Beverly Hills North Public School</td>\n",
       "      <td>cnr Shorter Ave &amp; King Georges Rd</td>\n",
       "      <td>NaN</td>\n",
       "      <td>NaN</td>\n",
       "      <td>BEVERLY HILLS</td>\n",
       "      <td>NSW</td>\n",
       "      <td>2209.0</td>\n",
       "      <td>-33.9413</td>\n",
       "      <td>151.075</td>\n",
       "    </tr>\n",
       "    <tr>\n",
       "      <th>1</th>\n",
       "      <td>NSW</td>\n",
       "      <td>East Hills</td>\n",
       "      <td>1st East Hills Scout Hall</td>\n",
       "      <td>cnr Henry Lawson Dr &amp; MacLaurin Ave</td>\n",
       "      <td>NaN</td>\n",
       "      <td>NaN</td>\n",
       "      <td>EAST HILLS</td>\n",
       "      <td>NSW</td>\n",
       "      <td>2213.0</td>\n",
       "      <td>-33.9637</td>\n",
       "      <td>150.987</td>\n",
       "    </tr>\n",
       "    <tr>\n",
       "      <th>2</th>\n",
       "      <td>NSW</td>\n",
       "      <td>Hannans Road</td>\n",
       "      <td>Hannans Road Public School</td>\n",
       "      <td>Hannans Rd</td>\n",
       "      <td>NaN</td>\n",
       "      <td>NaN</td>\n",
       "      <td>RIVERWOOD</td>\n",
       "      <td>NSW</td>\n",
       "      <td>2210.0</td>\n",
       "      <td>-33.9459</td>\n",
       "      <td>151.058</td>\n",
       "    </tr>\n",
       "  </tbody>\n",
       "</table>\n",
       "</div>"
      ],
      "text/plain": [
       "  state        polling_place                           premises  \\\n",
       "0   NSW  Beverly Hills North  Beverly Hills North Public School   \n",
       "1   NSW           East Hills          1st East Hills Scout Hall   \n",
       "2   NSW         Hannans Road         Hannans Road Public School   \n",
       "\n",
       "                      premisesaddress1 premisesaddress2 premisesaddress3  \\\n",
       "0    cnr Shorter Ave & King Georges Rd              NaN              NaN   \n",
       "1  cnr Henry Lawson Dr & MacLaurin Ave              NaN              NaN   \n",
       "2                           Hannans Rd              NaN              NaN   \n",
       "\n",
       "  premisessuburb premisesstateab  postcode  latitude  longitude  \n",
       "0  BEVERLY HILLS             NSW    2209.0  -33.9413    151.075  \n",
       "1     EAST HILLS             NSW    2213.0  -33.9637    150.987  \n",
       "2      RIVERWOOD             NSW    2210.0  -33.9459    151.058  "
      ]
     },
     "execution_count": 22,
     "metadata": {},
     "output_type": "execute_result"
    }
   ],
   "source": [
    "# test above\n",
    "filepath = 'federal_election_polling_places/pp_2007_election.csv'\n",
    "df_pp = import_polling_places(filepath)\n",
    "df_pp.head(3)"
   ]
  },
  {
   "cell_type": "markdown",
   "metadata": {},
   "source": [
    "### Import 1999 polling places"
   ]
  },
  {
   "cell_type": "code",
   "execution_count": 23,
   "metadata": {},
   "outputs": [
    {
     "data": {
      "text/html": [
       "<div>\n",
       "<style>\n",
       "    .dataframe thead tr:only-child th {\n",
       "        text-align: right;\n",
       "    }\n",
       "\n",
       "    .dataframe thead th {\n",
       "        text-align: left;\n",
       "    }\n",
       "\n",
       "    .dataframe tbody tr th {\n",
       "        vertical-align: top;\n",
       "    }\n",
       "</style>\n",
       "<table border=\"1\" class=\"dataframe\">\n",
       "  <thead>\n",
       "    <tr style=\"text-align: right;\">\n",
       "      <th></th>\n",
       "      <th>state</th>\n",
       "      <th>polling_place</th>\n",
       "      <th>premises</th>\n",
       "      <th>address</th>\n",
       "      <th>suburb</th>\n",
       "      <th>postcode</th>\n",
       "      <th>wheelchair_access</th>\n",
       "      <th>match_source</th>\n",
       "      <th>match_type</th>\n",
       "      <th>latitude</th>\n",
       "      <th>longitude</th>\n",
       "    </tr>\n",
       "  </thead>\n",
       "  <tbody>\n",
       "    <tr>\n",
       "      <th>0</th>\n",
       "      <td>ACT</td>\n",
       "      <td>Bonython</td>\n",
       "      <td>Bonython Primary School</td>\n",
       "      <td>Hurtle Ave</td>\n",
       "      <td>BONYTHON</td>\n",
       "      <td>2905.0</td>\n",
       "      <td>F</td>\n",
       "      <td>NaN</td>\n",
       "      <td>NaN</td>\n",
       "      <td>NaN</td>\n",
       "      <td>NaN</td>\n",
       "    </tr>\n",
       "    <tr>\n",
       "      <th>1</th>\n",
       "      <td>ACT</td>\n",
       "      <td>Calwell</td>\n",
       "      <td>Calwell High School</td>\n",
       "      <td>Casey Cres</td>\n",
       "      <td>CALWELL</td>\n",
       "      <td>2905.0</td>\n",
       "      <td>F</td>\n",
       "      <td>NaN</td>\n",
       "      <td>NaN</td>\n",
       "      <td>NaN</td>\n",
       "      <td>NaN</td>\n",
       "    </tr>\n",
       "    <tr>\n",
       "      <th>2</th>\n",
       "      <td>ACT</td>\n",
       "      <td>Canberra Hospital</td>\n",
       "      <td>The Canberra Hospital</td>\n",
       "      <td>Blding 2 Level 3 Yamba Dr</td>\n",
       "      <td>GARRAN</td>\n",
       "      <td>2605.0</td>\n",
       "      <td>F</td>\n",
       "      <td>NaN</td>\n",
       "      <td>NaN</td>\n",
       "      <td>NaN</td>\n",
       "      <td>NaN</td>\n",
       "    </tr>\n",
       "  </tbody>\n",
       "</table>\n",
       "</div>"
      ],
      "text/plain": [
       "  state      polling_place                 premises  \\\n",
       "0   ACT           Bonython  Bonython Primary School   \n",
       "1   ACT            Calwell      Calwell High School   \n",
       "2   ACT  Canberra Hospital    The Canberra Hospital   \n",
       "\n",
       "                     address    suburb  postcode wheelchair_access  \\\n",
       "0                 Hurtle Ave  BONYTHON    2905.0                 F   \n",
       "1                 Casey Cres   CALWELL    2905.0                 F   \n",
       "2  Blding 2 Level 3 Yamba Dr    GARRAN    2605.0                 F   \n",
       "\n",
       "   match_source  match_type  latitude  longitude  \n",
       "0           NaN         NaN       NaN        NaN  \n",
       "1           NaN         NaN       NaN        NaN  \n",
       "2           NaN         NaN       NaN        NaN  "
      ]
     },
     "execution_count": 23,
     "metadata": {},
     "output_type": "execute_result"
    }
   ],
   "source": [
    "filepath = '1999_referenda_output/polling_places.csv'\n",
    "\n",
    "df_pp_1999 = pd.read_csv(\n",
    "    filepath\n",
    ")\n",
    "\n",
    "# add blank columns for match types and lat/lng\n",
    "df_pp_1999['match_source'] = np.nan\n",
    "df_pp_1999['match_type'] = np.nan\n",
    "df_pp_1999['latitude'] = np.nan\n",
    "df_pp_1999['longitude'] = np.nan\n",
    "\n",
    "df_pp_1999.head(3)"
   ]
  },
  {
   "cell_type": "markdown",
   "metadata": {},
   "source": [
    "# Matches\n",
    "\n",
    "#### Pandas setting I need for below to behave\n",
    "pandas generates warnings for working with a data frame that's a copy of another\n",
    "it thinks I might think I'm changing df_pp_1999 when im working with df_pp_1999_working\n",
    "i'm turning this warning off because i'm doing this on purpose, so I can keep df_pp_1999 as a 'yet to be matched' file, and update it with each subsequent working file"
   ]
  },
  {
   "cell_type": "code",
   "execution_count": 24,
   "metadata": {
    "collapsed": true
   },
   "outputs": [],
   "source": [
    "pd.set_option('chained_assignment',None)"
   ]
  },
  {
   "cell_type": "markdown",
   "metadata": {},
   "source": [
    "#### Functions"
   ]
  },
  {
   "cell_type": "code",
   "execution_count": 56,
   "metadata": {
    "collapsed": true
   },
   "outputs": [],
   "source": [
    "def match_polling_places(df_pp_1999, df_pp, settings):\n",
    "    \n",
    "    # split up our meta field\n",
    "    keys = settings['keys']\n",
    "    match_source = settings['match_source']\n",
    "    match_type = settings['match_type']\n",
    "\n",
    "    # filter for those columns\n",
    "    df_pp_1999_working = df_pp_1999[[\n",
    "        'state',\n",
    "        'polling_place',\n",
    "        'premises',\n",
    "        'address',\n",
    "        'suburb',\n",
    "        'postcode',\n",
    "        'wheelchair_access'\n",
    "    ]]\n",
    "        \n",
    "    # the keys I want to keep from the second df in the join are the group_by keys, and also lat/lng\n",
    "    cols_df_pp = keys + ['latitude','longitude']\n",
    "    \n",
    "    # add cols for match type\n",
    "    df_pp_1999_working['match_source'] = match_source\n",
    "    df_pp_1999_working['match_type'] = match_type\n",
    "    \n",
    "    # run the join\n",
    "    df_pp_1999_working = pd.merge(\n",
    "        df_pp_1999_working,\n",
    "        df_pp[cols_df_pp],\n",
    "        on=['state','premises'],\n",
    "        how='left'\n",
    "    )\n",
    "    \n",
    "    # delete those which we didn't match\n",
    "    df_pp_1999_working = df_pp_1999_working[~df_pp_1999_working['latitude'].isnull()]\n",
    "    \n",
    "    return df_pp_1999_working\n",
    "\n",
    "def match_unmatched_polling_places(df_pp_1999, settings):\n",
    "    \n",
    "    # get polling place file from settings\n",
    "    filepath = settings['pp_filepath']    \n",
    "    df_pp = import_polling_places(filepath)\n",
    "    \n",
    "    # work out which rows we haven't yet matched\n",
    "    df_pp_1999_unmatched = df_pp_1999[df_pp_1999.match_source.isnull()]\n",
    "\n",
    "    # run match for those\n",
    "    df_pp_1999_matches = match_polling_places(df_pp_1999_unmatched, df_pp, settings)\n",
    "    \n",
    "    # update df_pp_1999 to include new matches\n",
    "    df_pp_1999.update(df_pp_1999_matches)\n",
    "    \n",
    "    # return\n",
    "    return df_pp_1999\n",
    "\n",
    "def match_status(df_pp_1999):\n",
    "    match_status = df_pp_1999.groupby('match_type').count()\n",
    "    match_status = match_status['state']\n",
    "    unmatched = len(df_pp_1999[df_pp_1999['match_type'].isnull()].index)\n",
    "    \n",
    "    print(match_status)\n",
    "    print('unmatched: ' + str(unmatched))"
   ]
  },
  {
   "cell_type": "markdown",
   "metadata": {},
   "source": [
    "### Match attempts\n",
    "\n",
    "#### Match 1 - 2007 on premises name, state, and postcode\n",
    "* Other than schools that have moved, these places should be the same\n",
    "    * And for schools that have moved, the postcode test should ensure it's not too far"
   ]
  },
  {
   "cell_type": "code",
   "execution_count": 54,
   "metadata": {},
   "outputs": [],
   "source": [
    "settings = dict(\n",
    "    pp_filepath = 'federal_election_polling_places/pp_2007_election.csv',\n",
    "    keys = ['state','premises','postcode'],\n",
    "    match_source = '2007 Polling Places',\n",
    "    match_type = 'Match 01 - state, premises, postcode'\n",
    ")\n",
    "\n",
    "# run the match\n",
    "df_pp_1999 = match_unmatched_polling_places(df_pp_1999, settings)"
   ]
  },
  {
   "cell_type": "code",
   "execution_count": 57,
   "metadata": {},
   "outputs": [
    {
     "name": "stdout",
     "output_type": "stream",
     "text": [
      "match_type\n",
      "Match 01 - state, premises, postcode    5284\n",
      "Match 02 - state, premises, postcode     247\n",
      "Name: state, dtype: int64\n",
      "unmatched: 1519\n"
     ]
    }
   ],
   "source": [
    "match_status(df_pp_1999)"
   ]
  },
  {
   "cell_type": "markdown",
   "metadata": {},
   "source": [
    "#### Match 2 through 4 - 2010 through 2016 on premises name, state, and postcode\n",
    "* Other than schools that have moved, these places should be the same\n",
    "    * And for schools that have moved, the postcode test should ensure it's not too far"
   ]
  },
  {
   "cell_type": "code",
   "execution_count": 28,
   "metadata": {},
   "outputs": [],
   "source": [
    "# Run merge on 2010 polling places, with premises name\n",
    "settings = dict(\n",
    "    pp_filepath = 'federal_election_polling_places/pp_2010_election.csv',\n",
    "    keys = ['state','premises','postcode'],\n",
    "    match_source = '2010 Polling Places',\n",
    "    match_type = 'Match 02 - state, premises, postcode'\n",
    ")\n",
    "\n",
    "df_pp_1999 = match_unmatched_polling_places(df_pp_1999, settings)\n",
    "\n",
    "settings = dict(\n",
    "    pp_filepath = 'federal_election_polling_places/pp_2013_election.csv',\n",
    "    keys = ['state','premises','postcode'],\n",
    "    match_source = '2013 Polling Places',\n",
    "    match_type = 'Match 03 - state, premises, postcode'\n",
    ")\n",
    "\n",
    "df_pp_1999 = match_unmatched_polling_places(df_pp_1999, settings)\n",
    "\n",
    "settings = dict(\n",
    "    pp_filepath = 'federal_election_polling_places/pp_2016_election.csv',\n",
    "    keys = ['state','premises','postcode'],\n",
    "    match_source = '2016 Polling Places',\n",
    "    match_type = 'Match 04 - state, premises, postcode'\n",
    ")\n",
    "\n",
    "df_pp_1999 = match_unmatched_polling_places(df_pp_1999, settings)"
   ]
  },
  {
   "cell_type": "code",
   "execution_count": 29,
   "metadata": {},
   "outputs": [
    {
     "name": "stdout",
     "output_type": "stream",
     "text": [
      "7050\n"
     ]
    }
   ],
   "source": [
    "df_pp_1999.head(200)\n",
    "print(str(len(df_pp_1999.index)))"
   ]
  }
 ],
 "metadata": {
  "kernelspec": {
   "display_name": "Python 3",
   "language": "python",
   "name": "python3"
  },
  "language_info": {
   "codemirror_mode": {
    "name": "ipython",
    "version": 3
   },
   "file_extension": ".py",
   "mimetype": "text/x-python",
   "name": "python",
   "nbconvert_exporter": "python",
   "pygments_lexer": "ipython3",
   "version": "3.6.1"
  }
 },
 "nbformat": 4,
 "nbformat_minor": 2
}
