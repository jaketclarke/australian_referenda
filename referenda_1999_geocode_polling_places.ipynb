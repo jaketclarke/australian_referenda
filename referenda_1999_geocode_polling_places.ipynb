{
 "cells": [
  {
   "cell_type": "markdown",
   "metadata": {},
   "source": [
    "# Notebook to add co-ordinates for 1999 Polling Places\n",
    "\n",
    "The AEC started putting co-ordinates on polling place files from 2007.\n",
    "\n",
    "The code below matches to 2007 polling places, where the name of the venue is the same.\n",
    "\n",
    "While not perfect, this should result the vast majority of the time in a co-ordinate closely representing the location of the polling location in 1999"
   ]
  },
  {
   "cell_type": "markdown",
   "metadata": {},
   "source": [
    "### Libraries"
   ]
  },
  {
   "cell_type": "code",
   "execution_count": 135,
   "metadata": {
    "collapsed": true
   },
   "outputs": [],
   "source": [
    "import pandas as pd\n",
    "import numpy as np"
   ]
  },
  {
   "cell_type": "markdown",
   "metadata": {},
   "source": [
    "### Helper functions"
   ]
  },
  {
   "cell_type": "code",
   "execution_count": 73,
   "metadata": {
    "collapsed": true
   },
   "outputs": [],
   "source": [
    "def left_of_bracket(s):\n",
    "    if '(' in s:\n",
    "        needle = s.find('(')\n",
    "        r = s[:needle-1].strip()\n",
    "        return r\n",
    "    else:\n",
    "        return s"
   ]
  },
  {
   "cell_type": "markdown",
   "metadata": {},
   "source": [
    "### Import polling places"
   ]
  },
  {
   "cell_type": "code",
   "execution_count": 89,
   "metadata": {},
   "outputs": [
    {
     "name": "stdout",
     "output_type": "stream",
     "text": [
      "num rows: 8235\n"
     ]
    }
   ],
   "source": [
    "## 2007 was the first year for which the AE\n",
    "\n",
    "# pull in polling places\n",
    "filepath = 'federal_election_polling_places/pp_2007_election.csv'\n",
    "\n",
    "df_pp = pd.read_csv(\n",
    "    filepath\n",
    ")\n",
    "\n",
    "print('num rows: ' +  str(len(df_pp.index)))"
   ]
  },
  {
   "cell_type": "markdown",
   "metadata": {},
   "source": [
    "### Dedup polling places"
   ]
  },
  {
   "cell_type": "code",
   "execution_count": 90,
   "metadata": {},
   "outputs": [
    {
     "name": "stdout",
     "output_type": "stream",
     "text": [
      "num rows: 7861\n"
     ]
    }
   ],
   "source": [
    "# pick the columns I want to keep\n",
    "cols = [\n",
    "    'State',\n",
    "    'PollingPlaceNm',\n",
    "    'PremisesNm',\n",
    "    'PremisesAddress1',\n",
    "    'PremisesAddress2',\n",
    "    'PremisesAddress3',\n",
    "    'PremisesSuburb',\n",
    "    'PremisesStateAb',\n",
    "    'PremisesPostCode',\n",
    "    'Latitude',\n",
    "    'Longitude'\n",
    "]\n",
    "\n",
    "df_pp = df_pp[cols]\n",
    "\n",
    "# create a polling place column missing the bracket\n",
    "lambda_polling_places = lambda x: left_of_bracket(x)\n",
    "df_pp['polling_place'] = df_pp['PollingPlaceNm'].apply(lambda_polling_places)\n",
    "\n",
    "# rename PremisesNm to premises to make joining easier\n",
    "df_pp['premises'] = df_pp['PremisesNm']\n",
    "\n",
    "# remove the old column\n",
    "del df_pp ['PollingPlaceNm']\n",
    "\n",
    "# replace in the col headers list\n",
    "cols = [c.replace('PollingPlaceNm', 'polling_place') for c in cols]\n",
    "cols = [c.replace('PremisesNm', 'premises') for c in cols]\n",
    "\n",
    "# reorder df\n",
    "df_pp = df_pp[cols]\n",
    "\n",
    "# dedup\n",
    "df_pp = df_pp.drop_duplicates()\n",
    "\n",
    "# make all headers lower case\n",
    "df_pp.columns = [x.lower() for x in df_pp.columns]\n",
    "\n",
    "print('num rows: ' +  str(len(df_pp.index)))"
   ]
  },
  {
   "cell_type": "markdown",
   "metadata": {},
   "source": [
    "### Import 1999 polling places"
   ]
  },
  {
   "cell_type": "code",
   "execution_count": 173,
   "metadata": {},
   "outputs": [
    {
     "data": {
      "text/html": [
       "<div>\n",
       "<style>\n",
       "    .dataframe thead tr:only-child th {\n",
       "        text-align: right;\n",
       "    }\n",
       "\n",
       "    .dataframe thead th {\n",
       "        text-align: left;\n",
       "    }\n",
       "\n",
       "    .dataframe tbody tr th {\n",
       "        vertical-align: top;\n",
       "    }\n",
       "</style>\n",
       "<table border=\"1\" class=\"dataframe\">\n",
       "  <thead>\n",
       "    <tr style=\"text-align: right;\">\n",
       "      <th></th>\n",
       "      <th>state</th>\n",
       "      <th>polling_place</th>\n",
       "      <th>premises</th>\n",
       "      <th>address</th>\n",
       "      <th>suburb</th>\n",
       "      <th>postcode</th>\n",
       "      <th>wheelchair_access</th>\n",
       "      <th>match_source</th>\n",
       "      <th>match_type</th>\n",
       "      <th>latitude</th>\n",
       "      <th>longitude</th>\n",
       "    </tr>\n",
       "  </thead>\n",
       "  <tbody>\n",
       "    <tr>\n",
       "      <th>0</th>\n",
       "      <td>ACT</td>\n",
       "      <td>Bonython</td>\n",
       "      <td>Bonython Primary School</td>\n",
       "      <td>Hurtle Ave</td>\n",
       "      <td>BONYTHON</td>\n",
       "      <td>2905.0</td>\n",
       "      <td>F</td>\n",
       "      <td>NaN</td>\n",
       "      <td>NaN</td>\n",
       "      <td>NaN</td>\n",
       "      <td>NaN</td>\n",
       "    </tr>\n",
       "    <tr>\n",
       "      <th>1</th>\n",
       "      <td>ACT</td>\n",
       "      <td>Calwell</td>\n",
       "      <td>Calwell High School</td>\n",
       "      <td>Casey Cres</td>\n",
       "      <td>CALWELL</td>\n",
       "      <td>2905.0</td>\n",
       "      <td>F</td>\n",
       "      <td>NaN</td>\n",
       "      <td>NaN</td>\n",
       "      <td>NaN</td>\n",
       "      <td>NaN</td>\n",
       "    </tr>\n",
       "    <tr>\n",
       "      <th>2</th>\n",
       "      <td>ACT</td>\n",
       "      <td>Canberra Hospital</td>\n",
       "      <td>The Canberra Hospital</td>\n",
       "      <td>Blding 2 Level 3 Yamba Dr</td>\n",
       "      <td>GARRAN</td>\n",
       "      <td>2605.0</td>\n",
       "      <td>F</td>\n",
       "      <td>NaN</td>\n",
       "      <td>NaN</td>\n",
       "      <td>NaN</td>\n",
       "      <td>NaN</td>\n",
       "    </tr>\n",
       "  </tbody>\n",
       "</table>\n",
       "</div>"
      ],
      "text/plain": [
       "  state      polling_place                 premises  \\\n",
       "0   ACT           Bonython  Bonython Primary School   \n",
       "1   ACT            Calwell      Calwell High School   \n",
       "2   ACT  Canberra Hospital    The Canberra Hospital   \n",
       "\n",
       "                     address    suburb  postcode wheelchair_access  \\\n",
       "0                 Hurtle Ave  BONYTHON    2905.0                 F   \n",
       "1                 Casey Cres   CALWELL    2905.0                 F   \n",
       "2  Blding 2 Level 3 Yamba Dr    GARRAN    2605.0                 F   \n",
       "\n",
       "   match_source  match_type  latitude  longitude  \n",
       "0           NaN         NaN       NaN        NaN  \n",
       "1           NaN         NaN       NaN        NaN  \n",
       "2           NaN         NaN       NaN        NaN  "
      ]
     },
     "execution_count": 173,
     "metadata": {},
     "output_type": "execute_result"
    }
   ],
   "source": [
    "filepath = '1999_referenda_output/polling_places.csv'\n",
    "\n",
    "df_pp_1999 = pd.read_csv(\n",
    "    filepath\n",
    ")\n",
    "\n",
    "# add blank columns for match types and lat/lng\n",
    "df_pp_1999['match_source'] = np.nan\n",
    "df_pp_1999['match_type'] = np.nan\n",
    "df_pp_1999['latitude'] = np.nan\n",
    "df_pp_1999['longitude'] = np.nan\n",
    "\n",
    "df_pp_1999.head(3)"
   ]
  },
  {
   "cell_type": "markdown",
   "metadata": {},
   "source": [
    "### Match on premises name\n",
    "\n",
    "#### Pandas setting I need for below to behave\n",
    "pandas generates warnings for working with a data frame that's a copy of another\n",
    "it thinks I might think I'm changing df_pp_1999 when im working with df_pp_1999_working\n",
    "i'm turning this warning off because i'm doing this on purpose, so I can keep df_pp_1999 as a 'yet to be matched' file, and update it with each subsequent working file"
   ]
  },
  {
   "cell_type": "code",
   "execution_count": 153,
   "metadata": {
    "collapsed": true
   },
   "outputs": [],
   "source": [
    "pd.set_option('chained_assignment',None)"
   ]
  },
  {
   "cell_type": "code",
   "execution_count": 174,
   "metadata": {},
   "outputs": [
    {
     "name": "stdout",
     "output_type": "stream",
     "text": [
      "Matched: 5221 Of 7861, 66.0%\n",
      "5221 Records to update\n"
     ]
    }
   ],
   "source": [
    "# create a copy to work with\n",
    "df_pp_1999_working = df_pp_1999[[\n",
    "    'state',\n",
    "    'polling_place',\n",
    "    'premises',\n",
    "    'address',\n",
    "    'suburb',\n",
    "    'postcode',\n",
    "    'wheelchair_access'\n",
    "]]\n",
    "\n",
    "# add columns for match type\n",
    "df_pp_1999_working['match_source'] = '2007 Polling Places'\n",
    "df_pp_1999_working['match_type'] = 'Premises Name'\n",
    "\n",
    "# left join to 2007 polling places on the premesis name\n",
    "df_pp_1999_working = pd.merge(\n",
    "    df_pp_1999_working,\n",
    "    df_pp[['state','premises','latitude','longitude']],\n",
    "    on=['state','premises'],\n",
    "    how='left'\n",
    ")\n",
    "\n",
    "matched = df_pp_1999_working.count()['latitude']\n",
    "total = len(df_pp.index)\n",
    "not_matched = total - matched\n",
    "\n",
    "print ('Matched: ' + str(matched) + ' Of ' + str(total) + ', ' + str(100*round(matched/total,2)) + '%')\n",
    "\n",
    "# delete those which we didn't match\n",
    "df_pp_1999_working = df_pp_1999_working[~df_pp_1999_working['latitude'].isnull()]\n",
    "\n",
    "print(str(len(df_pp_1999_working.index))+ ' Records to update')\n",
    "\n",
    "# update\n",
    "df_pp_1999.update(df_pp_1999_working)"
   ]
  }
 ],
 "metadata": {
  "kernelspec": {
   "display_name": "Python 3",
   "language": "python",
   "name": "python3"
  },
  "language_info": {
   "codemirror_mode": {
    "name": "ipython",
    "version": 3
   },
   "file_extension": ".py",
   "mimetype": "text/x-python",
   "name": "python",
   "nbconvert_exporter": "python",
   "pygments_lexer": "ipython3",
   "version": "3.6.1"
  }
 },
 "nbformat": 4,
 "nbformat_minor": 2
}
