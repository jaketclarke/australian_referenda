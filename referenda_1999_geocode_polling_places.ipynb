{
 "cells": [
  {
   "cell_type": "markdown",
   "metadata": {},
   "source": [
    "# Notebook to add co-ordinates for 1999 Polling Places\n",
    "\n",
    "The AEC started putting co-ordinates on polling place files from 2007.\n",
    "\n",
    "The code below matches to 2007 polling places, where the name of the venue is the same.\n",
    "\n",
    "While not perfect, this should result the vast majority of the time in a co-ordinate closely representing the location of the polling location in 1999"
   ]
  },
  {
   "cell_type": "markdown",
   "metadata": {},
   "source": [
    "### Libraries"
   ]
  },
  {
   "cell_type": "code",
   "execution_count": 254,
   "metadata": {
    "collapsed": true
   },
   "outputs": [],
   "source": [
    "import pandas as pd\n",
    "import numpy as np\n",
    "from IPython.display import display, HTML"
   ]
  },
  {
   "cell_type": "markdown",
   "metadata": {},
   "source": [
    "### Helper functions"
   ]
  },
  {
   "cell_type": "code",
   "execution_count": 255,
   "metadata": {
    "collapsed": true
   },
   "outputs": [],
   "source": [
    "def left_of_bracket(s):\n",
    "    if '(' in s:\n",
    "        needle = s.find('(')\n",
    "        r = s[:needle-1].strip()\n",
    "        return r\n",
    "    else:\n",
    "        return s\n",
    "\n",
    "# i keep forgetting the syntax for this so writing a wrapper\n",
    "def dedup_df(df, keys, keep = False):\n",
    "    \n",
    "    # for a data frame, drop anything thats a duplicate\n",
    "    # if you change keep to first, it'll keep the first row rather than none\n",
    "    df_dedup = df.drop_duplicates(keys, keep)\n",
    "    return df_dedup"
   ]
  },
  {
   "cell_type": "markdown",
   "metadata": {},
   "source": [
    "### Import polling places"
   ]
  },
  {
   "cell_type": "markdown",
   "metadata": {},
   "source": [
    "`import_polling_places(filepath)`\n",
    "* Takes a path to a polling place file\n",
    "* Returns a tidy data frame\n",
    "    * Renames some columns\n",
    "    * Dedups on `['state','polling_place']`"
   ]
  },
  {
   "cell_type": "code",
   "execution_count": 256,
   "metadata": {},
   "outputs": [],
   "source": [
    "def import_polling_places(filepath):\n",
    "    \n",
    "    # read csv\n",
    "    df_pp = pd.read_csv(\n",
    "        filepath\n",
    "    )\n",
    "    \n",
    "    # pick the columns I want to keep\n",
    "    cols = [\n",
    "        'State',\n",
    "        'PollingPlaceNm',\n",
    "        'PremisesNm',\n",
    "        'PremisesAddress1',\n",
    "        'PremisesAddress2',\n",
    "        'PremisesAddress3',\n",
    "        'PremisesSuburb',\n",
    "        'PremisesStateAb',\n",
    "        'PremisesPostCode',\n",
    "        'Latitude',\n",
    "        'Longitude'\n",
    "    ]\n",
    "    \n",
    "    # filter for those\n",
    "    df_pp = df_pp[cols]\n",
    "\n",
    "    # create a polling place column missing the bracket\n",
    "    lambda_polling_places = lambda x: left_of_bracket(x)\n",
    "    df_pp['polling_place'] = df_pp['PollingPlaceNm'].apply(lambda_polling_places)\n",
    "\n",
    "    # rename columns to make joining easier\n",
    "    df_pp['premises'] = df_pp['PremisesNm']\n",
    "    df_pp['postcode'] = df_pp['PremisesPostCode']\n",
    "\n",
    "    # replace in the col headers list where I've modified/added the column\n",
    "    cols = [c.replace('PollingPlaceNm', 'polling_place') for c in cols]\n",
    "    cols = [c.replace('PremisesNm', 'premises') for c in cols]\n",
    "    cols = [c.replace('PremisesPostCode', 'postcode') for c in cols]\n",
    "    \n",
    "    # reorder df\n",
    "    df_pp = df_pp[cols]\n",
    "\n",
    "    # dedup\n",
    "    df_pp = df_pp.drop_duplicates()\n",
    "\n",
    "    # make all headers lower case\n",
    "    df_pp.columns = [x.lower() for x in df_pp.columns]\n",
    "    \n",
    "    return df_pp"
   ]
  },
  {
   "cell_type": "code",
   "execution_count": 257,
   "metadata": {},
   "outputs": [
    {
     "data": {
      "text/plain": [
       "'Rows: 7861'"
      ]
     },
     "metadata": {},
     "output_type": "display_data"
    }
   ],
   "source": [
    "filepath = 'federal_election_polling_places/pp_2007_election.csv'\n",
    "test = import_polling_places(filepath)\n",
    "display('Rows: ' + str(len(test.index)))"
   ]
  },
  {
   "cell_type": "markdown",
   "metadata": {},
   "source": [
    "### Import 1999 polling places"
   ]
  },
  {
   "cell_type": "code",
   "execution_count": 258,
   "metadata": {},
   "outputs": [],
   "source": [
    "def import_1999_pp(filepath):\n",
    "\n",
    "    df_pp_1999 = pd.read_csv(\n",
    "        filepath\n",
    "    )\n",
    "\n",
    "    # add blank columns for match types and lat/lng\n",
    "    df_pp_1999['match_source'] = np.nan\n",
    "    df_pp_1999['match_type'] = np.nan\n",
    "    df_pp_1999['latitude'] = np.nan\n",
    "    df_pp_1999['longitude'] = np.nan\n",
    "\n",
    "    # tell it to index on state and polling place\n",
    "    df_pp_1999 = df_pp_1999.set_index(['state','polling_place'])\n",
    "    \n",
    "    return df_pp_1999"
   ]
  },
  {
   "cell_type": "code",
   "execution_count": 259,
   "metadata": {},
   "outputs": [
    {
     "data": {
      "text/html": [
       "<div>\n",
       "<style>\n",
       "    .dataframe thead tr:only-child th {\n",
       "        text-align: right;\n",
       "    }\n",
       "\n",
       "    .dataframe thead th {\n",
       "        text-align: left;\n",
       "    }\n",
       "\n",
       "    .dataframe tbody tr th {\n",
       "        vertical-align: top;\n",
       "    }\n",
       "</style>\n",
       "<table border=\"1\" class=\"dataframe\">\n",
       "  <thead>\n",
       "    <tr style=\"text-align: right;\">\n",
       "      <th></th>\n",
       "      <th></th>\n",
       "      <th>premises</th>\n",
       "      <th>address</th>\n",
       "      <th>suburb</th>\n",
       "      <th>postcode</th>\n",
       "      <th>wheelchair_access</th>\n",
       "      <th>match_source</th>\n",
       "      <th>match_type</th>\n",
       "      <th>latitude</th>\n",
       "      <th>longitude</th>\n",
       "    </tr>\n",
       "    <tr>\n",
       "      <th>state</th>\n",
       "      <th>polling_place</th>\n",
       "      <th></th>\n",
       "      <th></th>\n",
       "      <th></th>\n",
       "      <th></th>\n",
       "      <th></th>\n",
       "      <th></th>\n",
       "      <th></th>\n",
       "      <th></th>\n",
       "      <th></th>\n",
       "    </tr>\n",
       "  </thead>\n",
       "  <tbody>\n",
       "    <tr>\n",
       "      <th rowspan=\"3\" valign=\"top\">ACT</th>\n",
       "      <th>Bonython</th>\n",
       "      <td>Bonython Primary School</td>\n",
       "      <td>Hurtle Ave</td>\n",
       "      <td>BONYTHON</td>\n",
       "      <td>2905.0</td>\n",
       "      <td>F</td>\n",
       "      <td>NaN</td>\n",
       "      <td>NaN</td>\n",
       "      <td>NaN</td>\n",
       "      <td>NaN</td>\n",
       "    </tr>\n",
       "    <tr>\n",
       "      <th>Calwell</th>\n",
       "      <td>Calwell High School</td>\n",
       "      <td>Casey Cres</td>\n",
       "      <td>CALWELL</td>\n",
       "      <td>2905.0</td>\n",
       "      <td>F</td>\n",
       "      <td>NaN</td>\n",
       "      <td>NaN</td>\n",
       "      <td>NaN</td>\n",
       "      <td>NaN</td>\n",
       "    </tr>\n",
       "    <tr>\n",
       "      <th>Canberra Hospital</th>\n",
       "      <td>The Canberra Hospital</td>\n",
       "      <td>Blding 2 Level 3 Yamba Dr</td>\n",
       "      <td>GARRAN</td>\n",
       "      <td>2605.0</td>\n",
       "      <td>F</td>\n",
       "      <td>NaN</td>\n",
       "      <td>NaN</td>\n",
       "      <td>NaN</td>\n",
       "      <td>NaN</td>\n",
       "    </tr>\n",
       "  </tbody>\n",
       "</table>\n",
       "</div>"
      ],
      "text/plain": [
       "                                        premises                    address  \\\n",
       "state polling_place                                                           \n",
       "ACT   Bonython           Bonython Primary School                 Hurtle Ave   \n",
       "      Calwell                Calwell High School                 Casey Cres   \n",
       "      Canberra Hospital    The Canberra Hospital  Blding 2 Level 3 Yamba Dr   \n",
       "\n",
       "                           suburb  postcode wheelchair_access  match_source  \\\n",
       "state polling_place                                                           \n",
       "ACT   Bonython           BONYTHON    2905.0                 F           NaN   \n",
       "      Calwell             CALWELL    2905.0                 F           NaN   \n",
       "      Canberra Hospital    GARRAN    2605.0                 F           NaN   \n",
       "\n",
       "                         match_type  latitude  longitude  \n",
       "state polling_place                                       \n",
       "ACT   Bonython                  NaN       NaN        NaN  \n",
       "      Calwell                   NaN       NaN        NaN  \n",
       "      Canberra Hospital         NaN       NaN        NaN  "
      ]
     },
     "metadata": {},
     "output_type": "display_data"
    }
   ],
   "source": [
    "filepath = '1999_referenda_output/polling_places.csv'\n",
    "df_pp_1999 = import_1999_pp(filepath)\n",
    "display(df_pp_1999.head(3))"
   ]
  },
  {
   "cell_type": "markdown",
   "metadata": {},
   "source": [
    "# Matches\n",
    "\n",
    "#### Pandas setting I need for below to behave\n",
    "pandas generates warnings for working with a data frame that's a copy of another\n",
    "it thinks I might think I'm changing df_pp_1999 when im working with df_pp_1999_working\n",
    "i'm turning this warning off because i'm doing this on purpose, so I can keep df_pp_1999 as a 'yet to be matched' file, and update it with each subsequent working file"
   ]
  },
  {
   "cell_type": "code",
   "execution_count": 260,
   "metadata": {
    "collapsed": true
   },
   "outputs": [],
   "source": [
    "pd.set_option('chained_assignment',None)"
   ]
  },
  {
   "cell_type": "markdown",
   "metadata": {},
   "source": [
    "### Functions"
   ]
  },
  {
   "cell_type": "markdown",
   "metadata": {},
   "source": [
    "#### `match_polling_places(df_pp_1999, df_pp, settings)`\n",
    "* For the 1999 data frame, and a given other polling place data frame, and a set of settings, run a merge, and return the rows that matched based on the join you specified\n",
    "<br />\n",
    "E.g:\n",
    "```\n",
    "match_polling_places(\n",
    "    df_pp_1999,\n",
    "    df_pp,\n",
    "    dict(\n",
    "        keys = ['state','premises','postcode'],\n",
    "        match_source = '2007 Polling Places',\n",
    "        match_type = 'Match 01 - state, premises, postcode'   \n",
    "    )\n",
    ")\n",
    "```\n",
    "* runs a join on state, premises, and postcode between df1 and df2\n",
    "* keeps a defined set of columns from df1\n",
    "* adds the columns match_source and match_type, and sets their value\n",
    "* replaces the latitude and longitude columns of df1 with those from df2\n",
    "* returns this data frame, deleting all rows that didn't match from df1"
   ]
  },
  {
   "cell_type": "code",
   "execution_count": 295,
   "metadata": {
    "collapsed": true
   },
   "outputs": [],
   "source": [
    "def match_polling_places(df1, df2, settings):\n",
    "    \n",
    "    # split up our meta field\n",
    "    keys = settings['keys']\n",
    "    match_source = settings['match_source']\n",
    "    match_type = settings['match_type']\n",
    "\n",
    "    # filter for those columns\n",
    " \n",
    "    df_working = df1.reset_index()[[\n",
    "        'state',\n",
    "        'polling_place',\n",
    "        'premises',\n",
    "        'address',\n",
    "        'suburb',\n",
    "        'postcode',\n",
    "        'wheelchair_access'\n",
    "    ]]\n",
    "\n",
    "    # the keys I want to keep from the second df in the join are the group_by keys, and also lat/lng\n",
    "    cols_df2 = keys + ['latitude','longitude']\n",
    "    \n",
    "    # add cols for match type\n",
    "    df_working['match_source'] = match_source\n",
    "    df_working['match_type'] = match_type\n",
    "    \n",
    "    # run the join\n",
    "    df_working = pd.merge(\n",
    "        df_working,\n",
    "        df2[cols_df2],\n",
    "        on=keys,\n",
    "        how='left'\n",
    "    )\n",
    "    \n",
    "    # delete those which we didn't match\n",
    "    df_working = df_working[~df_working['latitude'].isnull()]\n",
    "    \n",
    "    # dedup on the keys we matched on\n",
    "    df_working = dedup_df(df_working, keys)\n",
    "    \n",
    "    return df_working"
   ]
  },
  {
   "cell_type": "code",
   "execution_count": 283,
   "metadata": {},
   "outputs": [
    {
     "data": {
      "text/html": [
       "<div>\n",
       "<style>\n",
       "    .dataframe thead tr:only-child th {\n",
       "        text-align: right;\n",
       "    }\n",
       "\n",
       "    .dataframe thead th {\n",
       "        text-align: left;\n",
       "    }\n",
       "\n",
       "    .dataframe tbody tr th {\n",
       "        vertical-align: top;\n",
       "    }\n",
       "</style>\n",
       "<table border=\"1\" class=\"dataframe\">\n",
       "  <thead>\n",
       "    <tr style=\"text-align: right;\">\n",
       "      <th></th>\n",
       "      <th>state</th>\n",
       "      <th>polling_place</th>\n",
       "      <th>premises</th>\n",
       "      <th>address</th>\n",
       "      <th>suburb</th>\n",
       "      <th>postcode</th>\n",
       "      <th>wheelchair_access</th>\n",
       "      <th>match_source</th>\n",
       "      <th>match_type</th>\n",
       "      <th>latitude</th>\n",
       "      <th>longitude</th>\n",
       "    </tr>\n",
       "  </thead>\n",
       "  <tbody>\n",
       "    <tr>\n",
       "      <th>0</th>\n",
       "      <td>ACT</td>\n",
       "      <td>Bonython</td>\n",
       "      <td>Bonython Primary School</td>\n",
       "      <td>Hurtle Ave</td>\n",
       "      <td>BONYTHON</td>\n",
       "      <td>2905.0</td>\n",
       "      <td>F</td>\n",
       "      <td>2007 Polling Places</td>\n",
       "      <td>Match 01 - state, premises, postcode</td>\n",
       "      <td>-35.4318</td>\n",
       "      <td>149.083</td>\n",
       "    </tr>\n",
       "    <tr>\n",
       "      <th>1</th>\n",
       "      <td>ACT</td>\n",
       "      <td>Calwell</td>\n",
       "      <td>Calwell High School</td>\n",
       "      <td>Casey Cres</td>\n",
       "      <td>CALWELL</td>\n",
       "      <td>2905.0</td>\n",
       "      <td>F</td>\n",
       "      <td>2007 Polling Places</td>\n",
       "      <td>Match 01 - state, premises, postcode</td>\n",
       "      <td>-35.4406</td>\n",
       "      <td>149.116</td>\n",
       "    </tr>\n",
       "    <tr>\n",
       "      <th>2</th>\n",
       "      <td>ACT</td>\n",
       "      <td>Canberra Hospital</td>\n",
       "      <td>The Canberra Hospital</td>\n",
       "      <td>Blding 2 Level 3 Yamba Dr</td>\n",
       "      <td>GARRAN</td>\n",
       "      <td>2605.0</td>\n",
       "      <td>F</td>\n",
       "      <td>2007 Polling Places</td>\n",
       "      <td>Match 01 - state, premises, postcode</td>\n",
       "      <td>-35.3453</td>\n",
       "      <td>149.100</td>\n",
       "    </tr>\n",
       "  </tbody>\n",
       "</table>\n",
       "</div>"
      ],
      "text/plain": [
       "  state      polling_place                 premises  \\\n",
       "0   ACT           Bonython  Bonython Primary School   \n",
       "1   ACT            Calwell      Calwell High School   \n",
       "2   ACT  Canberra Hospital    The Canberra Hospital   \n",
       "\n",
       "                     address    suburb  postcode wheelchair_access  \\\n",
       "0                 Hurtle Ave  BONYTHON    2905.0                 F   \n",
       "1                 Casey Cres   CALWELL    2905.0                 F   \n",
       "2  Blding 2 Level 3 Yamba Dr    GARRAN    2605.0                 F   \n",
       "\n",
       "          match_source                            match_type  latitude  \\\n",
       "0  2007 Polling Places  Match 01 - state, premises, postcode  -35.4318   \n",
       "1  2007 Polling Places  Match 01 - state, premises, postcode  -35.4406   \n",
       "2  2007 Polling Places  Match 01 - state, premises, postcode  -35.3453   \n",
       "\n",
       "   longitude  \n",
       "0    149.083  \n",
       "1    149.116  \n",
       "2    149.100  "
      ]
     },
     "metadata": {},
     "output_type": "display_data"
    }
   ],
   "source": [
    "# test match_polling_places\n",
    "filepath = '1999_referenda_output/polling_places.csv'\n",
    "df1 = import_1999_pp(filepath)\n",
    "\n",
    "filepath2 = 'federal_election_polling_places/pp_2007_election.csv'\n",
    "df2 = import_polling_places(filepath2)\n",
    "\n",
    "test = match_polling_places(\n",
    "  df1,\n",
    "  df2,\n",
    "  dict(\n",
    "      keys = ['state','premises','postcode'],\n",
    "      match_source = '2007 Polling Places',\n",
    "      match_type = 'Match 01 - state, premises, postcode'   \n",
    "  )\n",
    ")\n",
    "\n",
    "display(test.head(3))"
   ]
  },
  {
   "cell_type": "markdown",
   "metadata": {},
   "source": [
    "#### `match_unmatched_polling_places(df1, settings)`\n",
    "* This is a wrapper function for `match_polling_places`\n",
    "* It will only pass data that is NOT yet matched in df1 to the match function, so that we keep track of at what point in our order we matched the data frame (rather than overriding each time it matches)\n",
    "* This will matter as we do less high quality matches at the bottom of the pile"
   ]
  },
  {
   "cell_type": "code",
   "execution_count": 293,
   "metadata": {},
   "outputs": [],
   "source": [
    "def match_unmatched_polling_places(df1, settings):\n",
    "    \n",
    "    # get polling place file from settings\n",
    "    filepath = settings['pp_filepath']    \n",
    "    df2 = import_polling_places(filepath)\n",
    "\n",
    "    # work out which rows we haven't yet matched\n",
    "    df1_unmatched = df1[df1.match_source.isnull()]\n",
    "    \n",
    "    # run match for those\n",
    "    df1_matches = match_polling_places(df1_unmatched, df2, settings)\n",
    "    \n",
    "    # dedup this file for combinations of state/polling_place (my unique key)\n",
    "    keys = ['state','polling_place']\n",
    "    df1_matches = dedup_df(df1_matches, keys)\n",
    "    \n",
    "    # check that worked by making it a key now\n",
    "    df1_matches = df1_matches.set_index(keys)\n",
    "    \n",
    "    # update with matches\n",
    "    df1.update(df1_matches)\n",
    "    \n",
    "    # return\n",
    "    return df1"
   ]
  },
  {
   "cell_type": "markdown",
   "metadata": {},
   "source": [
    "#### `match_status(df1)`\n",
    "* a function to tell me for a given data frame what the match status is"
   ]
  },
  {
   "cell_type": "code",
   "execution_count": 335,
   "metadata": {
    "collapsed": true
   },
   "outputs": [],
   "source": [
    "def match_status(df1):\n",
    "    \n",
    "    # how many Nans are in match_type?\n",
    "    not_matched = len(df1[df1['match_type'].isnull()].index)\n",
    "    \n",
    "    # make a df for none\n",
    "    none = pd.DataFrame(dict(\n",
    "                match_source = 'Not yet matched',\n",
    "                count = not_matched\n",
    "    ), index=[0])\n",
    "    \n",
    "    if not_matched == len(df1.index): # if all values are not-matched\n",
    "        return none\n",
    "    else:\n",
    "        df = pd.DataFrame(\n",
    "            df1.groupby('match_source')['match_source'].count().reset_index(name='count')\n",
    "        )\n",
    "        \n",
    "        # add the non-matched row\n",
    "        df = df.append(none)\n",
    "\n",
    "        return df"
   ]
  },
  {
   "cell_type": "markdown",
   "metadata": {},
   "source": [
    "### Match attempts\n",
    "\n",
    "#### Match 1 - 2007 on premises name, state, and postcode\n",
    "* Other than schools that have moved, these places should be the same\n",
    "* And for schools that have moved, the postcode test should ensure it's not too far"
   ]
  },
  {
   "cell_type": "code",
   "execution_count": 337,
   "metadata": {},
   "outputs": [
    {
     "data": {
      "text/html": [
       "<div>\n",
       "<style>\n",
       "    .dataframe thead tr:only-child th {\n",
       "        text-align: right;\n",
       "    }\n",
       "\n",
       "    .dataframe thead th {\n",
       "        text-align: left;\n",
       "    }\n",
       "\n",
       "    .dataframe tbody tr th {\n",
       "        vertical-align: top;\n",
       "    }\n",
       "</style>\n",
       "<table border=\"1\" class=\"dataframe\">\n",
       "  <thead>\n",
       "    <tr style=\"text-align: right;\">\n",
       "      <th></th>\n",
       "      <th>count</th>\n",
       "      <th>match_source</th>\n",
       "    </tr>\n",
       "  </thead>\n",
       "  <tbody>\n",
       "    <tr>\n",
       "      <th>0</th>\n",
       "      <td>7044</td>\n",
       "      <td>Not yet matched</td>\n",
       "    </tr>\n",
       "  </tbody>\n",
       "</table>\n",
       "</div>"
      ],
      "text/plain": [
       "   count     match_source\n",
       "0   7044  Not yet matched"
      ]
     },
     "metadata": {},
     "output_type": "display_data"
    },
    {
     "data": {
      "text/html": [
       "<div>\n",
       "<style>\n",
       "    .dataframe thead tr:only-child th {\n",
       "        text-align: right;\n",
       "    }\n",
       "\n",
       "    .dataframe thead th {\n",
       "        text-align: left;\n",
       "    }\n",
       "\n",
       "    .dataframe tbody tr th {\n",
       "        vertical-align: top;\n",
       "    }\n",
       "</style>\n",
       "<table border=\"1\" class=\"dataframe\">\n",
       "  <thead>\n",
       "    <tr style=\"text-align: right;\">\n",
       "      <th></th>\n",
       "      <th>count</th>\n",
       "      <th>match_source</th>\n",
       "    </tr>\n",
       "  </thead>\n",
       "  <tbody>\n",
       "    <tr>\n",
       "      <th>0</th>\n",
       "      <td>4883</td>\n",
       "      <td>2007 Polling Places</td>\n",
       "    </tr>\n",
       "    <tr>\n",
       "      <th>0</th>\n",
       "      <td>2161</td>\n",
       "      <td>Not yet matched</td>\n",
       "    </tr>\n",
       "  </tbody>\n",
       "</table>\n",
       "</div>"
      ],
      "text/plain": [
       "   count         match_source\n",
       "0   4883  2007 Polling Places\n",
       "0   2161      Not yet matched"
      ]
     },
     "metadata": {},
     "output_type": "display_data"
    }
   ],
   "source": [
    "# first match attempt - set up file\n",
    "filepath = '1999_referenda_output/polling_places.csv'\n",
    "df_pp_1999 = import_1999_pp(filepath)\n",
    "\n",
    "# double check none are somehow magically matched yet\n",
    "display(match_status(df_pp_1999))\n",
    "\n",
    "# configure match settings\n",
    "settings = dict(\n",
    "    pp_filepath = 'federal_election_polling_places/pp_2007_election.csv',\n",
    "    keys = ['state','premises','postcode'],\n",
    "    match_source = '2007 Polling Places',\n",
    "    match_type = 'Match 01 - state, premises, postcode'\n",
    ")\n",
    "\n",
    "# run match\n",
    "df_pp_1999 = match_unmatched_polling_places(df_pp_1999, settings)\n",
    "\n",
    "# check results\n",
    "display(match_status(df_pp_1999))\n",
    "# dedup_df(df, keys, keep = False"
   ]
  },
  {
   "cell_type": "code",
   "execution_count": 340,
   "metadata": {},
   "outputs": [
    {
     "data": {
      "text/html": [
       "<div>\n",
       "<style>\n",
       "    .dataframe thead tr:only-child th {\n",
       "        text-align: right;\n",
       "    }\n",
       "\n",
       "    .dataframe thead th {\n",
       "        text-align: left;\n",
       "    }\n",
       "\n",
       "    .dataframe tbody tr th {\n",
       "        vertical-align: top;\n",
       "    }\n",
       "</style>\n",
       "<table border=\"1\" class=\"dataframe\">\n",
       "  <thead>\n",
       "    <tr style=\"text-align: right;\">\n",
       "      <th></th>\n",
       "      <th>count</th>\n",
       "      <th>match_source</th>\n",
       "    </tr>\n",
       "  </thead>\n",
       "  <tbody>\n",
       "    <tr>\n",
       "      <th>0</th>\n",
       "      <td>4883</td>\n",
       "      <td>2007 Polling Places</td>\n",
       "    </tr>\n",
       "    <tr>\n",
       "      <th>0</th>\n",
       "      <td>2161</td>\n",
       "      <td>Not yet matched</td>\n",
       "    </tr>\n",
       "  </tbody>\n",
       "</table>\n",
       "</div>"
      ],
      "text/plain": [
       "   count         match_source\n",
       "0   4883  2007 Polling Places\n",
       "0   2161      Not yet matched"
      ]
     },
     "metadata": {},
     "output_type": "display_data"
    },
    {
     "data": {
      "text/html": [
       "<div>\n",
       "<style>\n",
       "    .dataframe thead tr:only-child th {\n",
       "        text-align: right;\n",
       "    }\n",
       "\n",
       "    .dataframe thead th {\n",
       "        text-align: left;\n",
       "    }\n",
       "\n",
       "    .dataframe tbody tr th {\n",
       "        vertical-align: top;\n",
       "    }\n",
       "</style>\n",
       "<table border=\"1\" class=\"dataframe\">\n",
       "  <thead>\n",
       "    <tr style=\"text-align: right;\">\n",
       "      <th></th>\n",
       "      <th>count</th>\n",
       "      <th>match_source</th>\n",
       "    </tr>\n",
       "  </thead>\n",
       "  <tbody>\n",
       "    <tr>\n",
       "      <th>0</th>\n",
       "      <td>4883</td>\n",
       "      <td>2007 Polling Places</td>\n",
       "    </tr>\n",
       "    <tr>\n",
       "      <th>0</th>\n",
       "      <td>2161</td>\n",
       "      <td>Not yet matched</td>\n",
       "    </tr>\n",
       "  </tbody>\n",
       "</table>\n",
       "</div>"
      ],
      "text/plain": [
       "   count         match_source\n",
       "0   4883  2007 Polling Places\n",
       "0   2161      Not yet matched"
      ]
     },
     "metadata": {},
     "output_type": "display_data"
    }
   ],
   "source": [
    "\n",
    "display(match_status(df_pp_1999))\n",
    "\n",
    "# configure match settings\n",
    "settings = dict(\n",
    "    pp_filepath = 'federal_election_polling_places/pp_2007_election.csv',\n",
    "    keys = ['state','premises','postcode'],\n",
    "    match_source = '2007 Polling Places',\n",
    "    match_type = 'Match 01 - state, premises, postcode'\n",
    ")\n",
    "\n",
    "# run match\n",
    "df_pp_1999 = match_unmatched_polling_places(df_pp_1999, settings)\n",
    "\n",
    "# check results\n",
    "display(match_status(df_pp_1999))\n",
    "# dedup_df(df, keys, keep = False"
   ]
  },
  {
   "cell_type": "code",
   "execution_count": null,
   "metadata": {},
   "outputs": [],
   "source": [
    "# match_status(df_pp_1999)\n",
    "\n",
    "print(str(len(df_pp_1999_matches.index)))\n",
    "# remove any non-unique combinations of state and polling place\n",
    "# df_pp_1999_matches.drop_duplicates(subset=[ ])\n",
    "print(str(len(df_pp_1999_matches.index)))\n",
    "# put a key on state and polling place\n",
    "# df_pp_1999_matches = df_pp_1999_matches.set_index(['state', 'polling_place'])\n",
    "\n",
    "pd.concat(g for _, g in df_pp_1999_matches.groupby(['state','polling_place']) if len(g) > 1)\n",
    "\n",
    "# df_pp_1999.update(df_pp_1999_matches)\n",
    "\n",
    "# df_pp_1999"
   ]
  },
  {
   "cell_type": "markdown",
   "metadata": {},
   "source": [
    "#### Match 2 through 4 - 2010 through 2016 on premises name, state, and postcode\n",
    "* Other than schools that have moved, these places should be the same\n",
    "    * And for schools that have moved, the postcode test should ensure it's not too far"
   ]
  },
  {
   "cell_type": "code",
   "execution_count": null,
   "metadata": {},
   "outputs": [],
   "source": [
    "# Run merge on 2010 polling places, with premises name\n",
    "settings = dict(\n",
    "    pp_filepath = 'federal_election_polling_places/pp_2010_election.csv',\n",
    "    keys = ['state','premises','postcode'],\n",
    "    match_source = '2010 Polling Places',\n",
    "    match_type = 'Match 02 - state, premises, postcode'\n",
    ")\n",
    "\n",
    "df_pp_1999 = match_unmatched_polling_places(df_pp_1999, settings)\n",
    "\n",
    "settings = dict(\n",
    "    pp_filepath = 'federal_election_polling_places/pp_2013_election.csv',\n",
    "    keys = ['state','premises','postcode'],\n",
    "    match_source = '2013 Polling Places',\n",
    "    match_type = 'Match 03 - state, premises, postcode'\n",
    ")\n",
    "\n",
    "df_pp_1999 = match_unmatched_polling_places(df_pp_1999, settings)\n",
    "\n",
    "settings = dict(\n",
    "    pp_filepath = 'federal_election_polling_places/pp_2016_election.csv',\n",
    "    keys = ['state','premises','postcode'],\n",
    "    match_source = '2016 Polling Places',\n",
    "    match_type = 'Match 04 - state, premises, postcode'\n",
    ")\n",
    "\n",
    "df_pp_1999 = match_unmatched_polling_places(df_pp_1999, settings)"
   ]
  },
  {
   "cell_type": "code",
   "execution_count": null,
   "metadata": {},
   "outputs": [],
   "source": [
    "match_status(df_pp_1999)"
   ]
  },
  {
   "cell_type": "code",
   "execution_count": null,
   "metadata": {
    "collapsed": true
   },
   "outputs": [],
   "source": [
    "df_pp_1999.to_csv(\n",
    "    '1999_referenda_output/polling_places_geocoded.csv',\n",
    "    sep = ','\n",
    ")"
   ]
  }
 ],
 "metadata": {
  "kernelspec": {
   "display_name": "Python 3",
   "language": "python",
   "name": "python3"
  },
  "language_info": {
   "codemirror_mode": {
    "name": "ipython",
    "version": 3
   },
   "file_extension": ".py",
   "mimetype": "text/x-python",
   "name": "python",
   "nbconvert_exporter": "python",
   "pygments_lexer": "ipython3",
   "version": "3.6.1"
  }
 },
 "nbformat": 4,
 "nbformat_minor": 2
}
