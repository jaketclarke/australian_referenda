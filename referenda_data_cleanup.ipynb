{
 "cells": [
  {
   "cell_type": "markdown",
   "metadata": {},
   "source": [
    "# Notebook to tidy 1999 Referenda Data\n",
    "\n",
    "Thanks to Zach A for repeatedly nudging me to do this\n",
    "\n",
    "Thanks to David Michael for the data"
   ]
  },
  {
   "cell_type": "markdown",
   "metadata": {},
   "source": [
    "## Libraries"
   ]
  },
  {
   "cell_type": "code",
   "execution_count": 48,
   "metadata": {
    "collapsed": true
   },
   "outputs": [],
   "source": [
    "import pandas as pd\n",
    "import xlrd\n",
    "\n",
    "filepath = '1999_referenda/results_by_polling_place/v4_3ADEL.XLS'"
   ]
  },
  {
   "cell_type": "markdown",
   "metadata": {},
   "source": [
    "## Functions"
   ]
  },
  {
   "cell_type": "markdown",
   "metadata": {},
   "source": [
    "#### `left_of_bracket(s)`\n",
    "* takes string\n",
    "    * if string contains left bracket, returns whatever occurs before the bracket\n",
    "    * if string doesn't contain left bracket, returns whole string"
   ]
  },
  {
   "cell_type": "code",
   "execution_count": 145,
   "metadata": {
    "collapsed": true
   },
   "outputs": [],
   "source": [
    "def left_of_bracket(s):\n",
    "    if '(' in s:\n",
    "        needle = s.find('(')\n",
    "        r = s[:needle-1].strip()\n",
    "        return r\n",
    "    else:\n",
    "        return s"
   ]
  },
  {
   "cell_type": "code",
   "execution_count": 146,
   "metadata": {},
   "outputs": [
    {
     "name": "stdout",
     "output_type": "stream",
     "text": [
      "Croydon Park\n",
      "Croydon Park West\n"
     ]
    }
   ],
   "source": [
    "print(left_of_bracket('Croydon Park'))\n",
    "print(left_of_bracket('Croydon Park West (Adelaide)'))"
   ]
  },
  {
   "cell_type": "markdown",
   "metadata": {},
   "source": [
    "#### `referenda_by_electorate_get_metadata(filepath)`\n",
    "* takes filepath, string\n",
    "* get properties of data, state, electorate, et al"
   ]
  },
  {
   "cell_type": "code",
   "execution_count": 117,
   "metadata": {
    "collapsed": true
   },
   "outputs": [],
   "source": [
    "def referenda_by_electorate_get_metadata(filepath):\n",
    "    x = xlrd.open_workbook(filepath)\n",
    "    x_sheet = x.sheet_by_index(0)\n",
    "\n",
    "    date = x_sheet.cell(0,0).value.strip()\n",
    "    referenda = x_sheet.cell(5,0).value.strip()\n",
    "    state = x_sheet.cell(8,0).value.strip()\n",
    "    electorate = x_sheet.cell(9,0).value.strip()\n",
    "    \n",
    "    r = dict(\n",
    "        date = date,\n",
    "        referenda = referenda,\n",
    "        state = state,\n",
    "        electorate = electorate\n",
    "    )\n",
    "    \n",
    "    return r"
   ]
  },
  {
   "cell_type": "code",
   "execution_count": 118,
   "metadata": {},
   "outputs": [
    {
     "data": {
      "text/plain": [
       "{'date': 'Referendum: 6 November 1999',\n",
       " 'electorate': 'Adelaide (86272)',\n",
       " 'referenda': 'the Constitutional Alteration (Establishment of Republic) 1999',\n",
       " 'state': 'South Australia'}"
      ]
     },
     "execution_count": 118,
     "metadata": {},
     "output_type": "execute_result"
    }
   ],
   "source": [
    "referenda_by_electorate_get_metadata(filepath)"
   ]
  },
  {
   "cell_type": "markdown",
   "metadata": {},
   "source": [
    "#### `split_electorate_enrolment(s)`\n",
    "* takes string containing electorate and enrolment\n",
    "    * Field in the form: `\"Adelaide (86272)\"`\n",
    "* splits them, returns dict containing both"
   ]
  },
  {
   "cell_type": "code",
   "execution_count": 131,
   "metadata": {
    "collapsed": true
   },
   "outputs": [],
   "source": [
    "def split_electorate_enrolment(s):\n",
    "    \n",
    "    # splitting text in the form 'Adelaide (86272)'\n",
    "    needle = s.find('(')\n",
    "    \n",
    "    enrolment = s[needle:].strip() # take right of needle\n",
    "    enrolment = enrolment[1:-1] # remove first and last chars, ie, remove brackets\n",
    "    electorate = s[:needle-1].strip() # take everything from the start to one place before the bracket\n",
    "    \n",
    "    r = dict(\n",
    "        electorate = electorate,\n",
    "        enrolment = enrolment\n",
    "    )\n",
    "    \n",
    "    return r"
   ]
  },
  {
   "cell_type": "markdown",
   "metadata": {},
   "source": [
    "#### `state_abbreviation(state)`\n",
    "* Converts South Australia to SA, et al"
   ]
  },
  {
   "cell_type": "code",
   "execution_count": 133,
   "metadata": {
    "collapsed": true
   },
   "outputs": [],
   "source": [
    "def state_abbreviation(state):\n",
    "    spaces = state.count(' ')\n",
    "    \n",
    "    if spaces == 2:\n",
    "        bits = state.split(' ')\n",
    "        r=''\n",
    "        for b in bits:\n",
    "            r = r + b[:1].upper() # for each word in state grab first letter\n",
    "        return r\n",
    "    elif 'Australia' in state:\n",
    "        r = state[:1].upper() + 'A'\n",
    "        return r\n",
    "    elif state == 'Queensland':\n",
    "        return 'QLD'\n",
    "    elif state == 'Northern Territory':\n",
    "        return 'NT'\n",
    "    else:\n",
    "        r = state[:3].upper()\n",
    "        return r"
   ]
  },
  {
   "cell_type": "code",
   "execution_count": 147,
   "metadata": {},
   "outputs": [
    {
     "name": "stdout",
     "output_type": "stream",
     "text": [
      "NSW\n",
      "VIC\n",
      "QLD\n",
      "SA\n",
      "WA\n",
      "TAS\n",
      "NT\n",
      "ACT\n"
     ]
    }
   ],
   "source": [
    "print(state_abbreviation('New South Wales'))\n",
    "print(state_abbreviation('Victoria'))\n",
    "print(state_abbreviation('Queensland'))\n",
    "print(state_abbreviation('South Australia'))\n",
    "print(state_abbreviation('Western Australia'))\n",
    "print(state_abbreviation('Tasmania'))\n",
    "print(state_abbreviation('Northern Territory'))\n",
    "print(state_abbreviation('Australian Capital Territory'))"
   ]
  },
  {
   "cell_type": "markdown",
   "metadata": {},
   "source": [
    "#### `tidy_referenda_date(s)`\n",
    "* takes string containing referenda date\n",
    "    * Field in the form: `\"Referendum: 6 November 1999\"`\n",
    "* returns datetime in the form `1999-11-06 00:00:00`"
   ]
  },
  {
   "cell_type": "code",
   "execution_count": 138,
   "metadata": {
    "collapsed": true
   },
   "outputs": [],
   "source": [
    "def tidy_referenda_date(s):\n",
    "    # date in the form \"Referendum: 6 November 1999\"\n",
    "    needle = s.find(':')\n",
    "    needle = needle + 1 # skip the semicolon and the space\n",
    "    s = s[needle:].strip()\n",
    "\n",
    "    # parse as date\n",
    "    r = pd.to_datetime(s)\n",
    "    \n",
    "    return r"
   ]
  },
  {
   "cell_type": "code",
   "execution_count": 139,
   "metadata": {},
   "outputs": [
    {
     "name": "stdout",
     "output_type": "stream",
     "text": [
      "1999-11-06 00:00:00\n"
     ]
    }
   ],
   "source": [
    "print(tidy_referenda_date('Referendum: 6 November 1999'))"
   ]
  },
  {
   "cell_type": "markdown",
   "metadata": {},
   "source": [
    "#### `referenda_by_electorate_tidy_metadata(metadata)`\n",
    "* takes metadata, dict, containing state, electorate, referenda and date keys\n",
    "* runs separate tidy up functions properties of data, state, electorate, et al"
   ]
  },
  {
   "cell_type": "code",
   "execution_count": 143,
   "metadata": {
    "collapsed": true
   },
   "outputs": [],
   "source": [
    "def referenda_by_electorate_tidy_metadata(metadata):\n",
    "    electorate = metadata['electorate']\n",
    "    state = metadata['state']\n",
    "    date = metadata['date']\n",
    "    \n",
    "    # tidy electorate, get enrolment\n",
    "    electorate_enrolment = split_electorate_enrolment(electorate)\n",
    "    \n",
    "    metadata['electorate'] = electorate_enrolment['electorate']\n",
    "    metadata['enrolment'] = electorate_enrolment['enrolment']\n",
    "    \n",
    "    # tidy date\n",
    "    date = tidy_referenda_date(date)\n",
    "    \n",
    "    metadata['date'] = date\n",
    "    \n",
    "    # tidy state\n",
    "    state = state_abbreviation(state)\n",
    "    \n",
    "    metadata['state'] = state\n",
    "    \n",
    "    return metadata"
   ]
  },
  {
   "cell_type": "code",
   "execution_count": 144,
   "metadata": {},
   "outputs": [
    {
     "name": "stdout",
     "output_type": "stream",
     "text": [
      "Before:\n",
      "{'date': 'Referendum: 6 November 1999', 'referenda': 'the Constitutional Alteration (Establishment of Republic) 1999', 'state': 'South Australia', 'electorate': 'Adelaide (86272)'}\n",
      "After:\n",
      "{'date': Timestamp('1999-11-06 00:00:00'), 'referenda': 'the Constitutional Alteration (Establishment of Republic) 1999', 'state': 'SA', 'electorate': 'Adelaide', 'enrolment': '86272'}\n"
     ]
    }
   ],
   "source": [
    "metadata = {\n",
    "    'date': 'Referendum: 6 November 1999',\n",
    "    'referenda': 'the Constitutional Alteration (Establishment of Republic) 1999',\n",
    "    'state': 'South Australia',\n",
    "    'electorate': 'Adelaide (86272)'\n",
    "}\n",
    "\n",
    "print('Before:')\n",
    "print(metadata)\n",
    "\n",
    "metadata = referenda_by_electorate_tidy_metadata(metadata)\n",
    "\n",
    "print('After:')\n",
    "print(metadata)"
   ]
  },
  {
   "cell_type": "markdown",
   "metadata": {},
   "source": [
    "#### `referenda_by_electorate_get_data(filepath)`\n",
    "* takes filepath\n",
    "* returns data"
   ]
  },
  {
   "cell_type": "code",
   "execution_count": 148,
   "metadata": {
    "collapsed": true
   },
   "outputs": [],
   "source": [
    "def referenda_by_electorate_get_data(filepath):\n",
    "    # define headers for dataframe\n",
    "    columnheaders = [\n",
    "        'polling_place_raw',\n",
    "        'yes_or_no',\n",
    "        'yes_n',\n",
    "        'yes_p',\n",
    "        'no_n',\n",
    "        'no_p',\n",
    "        'formal_n',\n",
    "        'formal_p',\n",
    "        'informal_n',\n",
    "        'informal_p',\n",
    "        'total_n',\n",
    "        'total_p'\n",
    "    ]\n",
    "    \n",
    "    # read file\n",
    "    df_result = pd.read_excel(\n",
    "        filepath,\n",
    "        skiprows = 13, # the data starts on the 14th row\n",
    "        names=columnheaders\n",
    "    )\n",
    "    \n",
    "    # percentages are represented by 61.72 rather than 0.6172, this fixes that\n",
    "    \n",
    "    lambda_fix_percentages = lambda x: x/100\n",
    "\n",
    "    # run on the relevant columns\n",
    "    df_result['yes_p'] = df_result['yes_p'].apply(lambda_fix_percentages)\n",
    "    df_result['no_p'] = df_result['no_p'].apply(lambda_fix_percentages)\n",
    "    df_result['formal_p'] = df_result['formal_p'].apply(lambda_fix_percentages)\n",
    "    df_result['informal_p'] = df_result['informal_p'].apply(lambda_fix_percentages)\n",
    "    df_result['total_p'] = df_result['total_p'].apply(lambda_fix_percentages)\n",
    "\n",
    "    # polling places in >1 electorate are represented like \"Croydon (Adelaide)\"\n",
    "    # this creates a poling place column, so the frame can be combined for mapping\n",
    "\n",
    "    lambda_polling_places = lambda x: left_of_bracket(x)\n",
    "\n",
    "    # use above function to make a polling place column, i.e, remove ' (Adelaide)' from 'Enfield North (Adelaide)'\n",
    "    df_result['polling_place'] = df_result['polling_place_raw'].apply(lambda_polling_places)\n",
    "    \n",
    "    return df_result"
   ]
  },
  {
   "cell_type": "code",
   "execution_count": 151,
   "metadata": {},
   "outputs": [
    {
     "name": "stdout",
     "output_type": "stream",
     "text": [
      "   polling_place_raw yes_or_no  yes_n   yes_p  no_n    no_p  formal_n  \\\n",
      "0      Adelaide East       Yes    465  0.6700   229  0.3300       694   \n",
      "1  Adelaide Hospital       Yes    187  0.6172   116  0.3828       303   \n",
      "2     Adelaide South       Yes   1056  0.6467   577  0.3533      1633   \n",
      "\n",
      "   formal_p  informal_n  informal_p  total_n  total_p      polling_place  \n",
      "0    0.9914           6      0.0086      700   0.0086      Adelaide East  \n",
      "1    0.9806           6      0.0194      309   0.0038  Adelaide Hospital  \n",
      "2    0.9903          16      0.0097     1649   0.0202     Adelaide South  \n"
     ]
    }
   ],
   "source": [
    "filepath = '1999_referenda/results_by_polling_place/v4_3ADEL.XLS'\n",
    "print(referenda_by_electorate_get_data(filepath).head(3))"
   ]
  },
  {
   "cell_type": "markdown",
   "metadata": {},
   "source": [
    "#### `referenda_by_electorate_add_metadata(data, metadata)`\n",
    "* takes data frame for electorate result\n",
    "* adds chosen metadata"
   ]
  },
  {
   "cell_type": "code",
   "execution_count": 164,
   "metadata": {},
   "outputs": [],
   "source": [
    "def referenda_by_electorate_add_metadata(data, metadata):\n",
    "\n",
    "    # add metadata columns as desired\n",
    "    state = metadata['state']\n",
    "    data['state'] = state\n",
    "    data['electorate'] = metadata['electorate']\n",
    "    #data['enrolment'] = metadata['enrolment']\n",
    "    #data['date'] = metadata['date']\n",
    "    #data['referenda'] = metadata['referenda']\n",
    "    \n",
    "    # reorder columns - if you uncomment above, make sure to include below also\n",
    "    data = df_result[[\n",
    "        #'referenda',\n",
    "        #'date',\n",
    "        'state',\n",
    "        'electorate',\n",
    "        #'enrolment',\n",
    "        'polling_place',\n",
    "        'polling_place_raw',\n",
    "        'yes_or_no',\n",
    "        'yes_n',\n",
    "        'yes_p',\n",
    "        'no_n',\n",
    "        'no_p',\n",
    "        'formal_n',\n",
    "        'formal_p',\n",
    "        'informal_n',\n",
    "        'informal_p',\n",
    "        'total_n',\n",
    "        'total_p'\n",
    "    ]]\n",
    "\n",
    "    return data"
   ]
  },
  {
   "cell_type": "code",
   "execution_count": 165,
   "metadata": {},
   "outputs": [
    {
     "data": {
      "text/html": [
       "<div>\n",
       "<style>\n",
       "    .dataframe thead tr:only-child th {\n",
       "        text-align: right;\n",
       "    }\n",
       "\n",
       "    .dataframe thead th {\n",
       "        text-align: left;\n",
       "    }\n",
       "\n",
       "    .dataframe tbody tr th {\n",
       "        vertical-align: top;\n",
       "    }\n",
       "</style>\n",
       "<table border=\"1\" class=\"dataframe\">\n",
       "  <thead>\n",
       "    <tr style=\"text-align: right;\">\n",
       "      <th></th>\n",
       "      <th>state</th>\n",
       "      <th>electorate</th>\n",
       "      <th>polling_place</th>\n",
       "      <th>polling_place_raw</th>\n",
       "      <th>yes_or_no</th>\n",
       "      <th>yes_n</th>\n",
       "      <th>yes_p</th>\n",
       "      <th>no_n</th>\n",
       "      <th>no_p</th>\n",
       "      <th>formal_n</th>\n",
       "      <th>formal_p</th>\n",
       "      <th>informal_n</th>\n",
       "      <th>informal_p</th>\n",
       "      <th>total_n</th>\n",
       "      <th>total_p</th>\n",
       "    </tr>\n",
       "  </thead>\n",
       "  <tbody>\n",
       "    <tr>\n",
       "      <th>0</th>\n",
       "      <td>SA</td>\n",
       "      <td>Adelaide</td>\n",
       "      <td>Adelaide East</td>\n",
       "      <td>Adelaide East</td>\n",
       "      <td>Yes</td>\n",
       "      <td>465</td>\n",
       "      <td>0.6700</td>\n",
       "      <td>229</td>\n",
       "      <td>0.3300</td>\n",
       "      <td>694</td>\n",
       "      <td>0.9914</td>\n",
       "      <td>6</td>\n",
       "      <td>0.0086</td>\n",
       "      <td>700</td>\n",
       "      <td>0.0086</td>\n",
       "    </tr>\n",
       "    <tr>\n",
       "      <th>1</th>\n",
       "      <td>SA</td>\n",
       "      <td>Adelaide</td>\n",
       "      <td>Adelaide Hospital</td>\n",
       "      <td>Adelaide Hospital</td>\n",
       "      <td>Yes</td>\n",
       "      <td>187</td>\n",
       "      <td>0.6172</td>\n",
       "      <td>116</td>\n",
       "      <td>0.3828</td>\n",
       "      <td>303</td>\n",
       "      <td>0.9806</td>\n",
       "      <td>6</td>\n",
       "      <td>0.0194</td>\n",
       "      <td>309</td>\n",
       "      <td>0.0038</td>\n",
       "    </tr>\n",
       "    <tr>\n",
       "      <th>2</th>\n",
       "      <td>SA</td>\n",
       "      <td>Adelaide</td>\n",
       "      <td>Adelaide South</td>\n",
       "      <td>Adelaide South</td>\n",
       "      <td>Yes</td>\n",
       "      <td>1056</td>\n",
       "      <td>0.6467</td>\n",
       "      <td>577</td>\n",
       "      <td>0.3533</td>\n",
       "      <td>1633</td>\n",
       "      <td>0.9903</td>\n",
       "      <td>16</td>\n",
       "      <td>0.0097</td>\n",
       "      <td>1649</td>\n",
       "      <td>0.0202</td>\n",
       "    </tr>\n",
       "  </tbody>\n",
       "</table>\n",
       "</div>"
      ],
      "text/plain": [
       "  state electorate      polling_place  polling_place_raw yes_or_no  yes_n  \\\n",
       "0    SA   Adelaide      Adelaide East      Adelaide East       Yes    465   \n",
       "1    SA   Adelaide  Adelaide Hospital  Adelaide Hospital       Yes    187   \n",
       "2    SA   Adelaide     Adelaide South     Adelaide South       Yes   1056   \n",
       "\n",
       "    yes_p  no_n    no_p  formal_n  formal_p  informal_n  informal_p  total_n  \\\n",
       "0  0.6700   229  0.3300       694    0.9914           6      0.0086      700   \n",
       "1  0.6172   116  0.3828       303    0.9806           6      0.0194      309   \n",
       "2  0.6467   577  0.3533      1633    0.9903          16      0.0097     1649   \n",
       "\n",
       "   total_p  \n",
       "0   0.0086  \n",
       "1   0.0038  \n",
       "2   0.0202  "
      ]
     },
     "execution_count": 165,
     "metadata": {},
     "output_type": "execute_result"
    }
   ],
   "source": [
    "# get file\n",
    "filepath = '1999_referenda/results_by_polling_place/v4_3ADEL.XLS'\n",
    "\n",
    "# get and tidy metadata\n",
    "metadata = referenda_by_electorate_get_metadata(filepath)\n",
    "metadata = referenda_by_electorate_tidy_metadata(metadata)\n",
    "\n",
    "# get data\n",
    "data = referenda_by_electorate_get_data(filepath)\n",
    "\n",
    "# append metadata to data\n",
    "data = referenda_by_electorate_add_metadata(data, metadata)\n",
    "\n",
    "data.head(3)"
   ]
  },
  {
   "cell_type": "markdown",
   "metadata": {},
   "source": [
    "## Get Republic"
   ]
  },
  {
   "cell_type": "code",
   "execution_count": null,
   "metadata": {
    "collapsed": true
   },
   "outputs": [],
   "source": [
    "filepaths = ['']"
   ]
  }
 ],
 "metadata": {
  "kernelspec": {
   "display_name": "Python 3",
   "language": "python",
   "name": "python3"
  },
  "language_info": {
   "codemirror_mode": {
    "name": "ipython",
    "version": 3
   },
   "file_extension": ".py",
   "mimetype": "text/x-python",
   "name": "python",
   "nbconvert_exporter": "python",
   "pygments_lexer": "ipython3",
   "version": "3.6.1"
  }
 },
 "nbformat": 4,
 "nbformat_minor": 2
}
