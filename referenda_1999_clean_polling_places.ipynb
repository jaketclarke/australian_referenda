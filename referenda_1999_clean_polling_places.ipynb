{
 "cells": [
  {
   "cell_type": "markdown",
   "metadata": {},
   "source": [
    "# Notebook to tidy 1999 Polling Place Data"
   ]
  },
  {
   "cell_type": "markdown",
   "metadata": {},
   "source": [
    "## Libraries"
   ]
  },
  {
   "cell_type": "code",
   "execution_count": 23,
   "metadata": {
    "collapsed": true
   },
   "outputs": [],
   "source": [
    "import pandas as pd\n",
    "import xlrd\n",
    "import os\n",
    "from os import listdir\n",
    "from os.path import isfile, join"
   ]
  },
  {
   "cell_type": "markdown",
   "metadata": {},
   "source": [
    "## Functions"
   ]
  },
  {
   "cell_type": "markdown",
   "metadata": {},
   "source": [
    "#### `get_files(filepath)`\n",
    "* Takes a path to a folder\n",
    "* Returns a list of files in that folder"
   ]
  },
  {
   "cell_type": "code",
   "execution_count": 24,
   "metadata": {
    "collapsed": true
   },
   "outputs": [],
   "source": [
    "# filter a list of files for xls files\n",
    "def get_files(filepath):\n",
    "    return [f for f in listdir(filepath) if isfile(join(filepath, f))]"
   ]
  },
  {
   "cell_type": "code",
   "execution_count": 25,
   "metadata": {},
   "outputs": [
    {
     "name": "stdout",
     "output_type": "stream",
     "text": [
      "['ppsact.txt', 'ppsact.xls', 'ppsnsw.txt', 'ppsnsw.xls', 'ppsnt.txt', 'ppsnt.xls', 'ppsqld.txt', 'ppsqld.xls', 'ppssa.txt', 'ppssa.xls', 'ppstas.TXT', 'ppstas.xls', 'ppsvic.txt', 'ppsvic.xls', 'ppswa.txt', 'ppswa.xls']\n"
     ]
    }
   ],
   "source": [
    "filepath = '1999_referenda/polling_places'\n",
    "print(get_files(filepath)[:4])"
   ]
  },
  {
   "cell_type": "markdown",
   "metadata": {},
   "source": [
    "#### `get_xls(files)`\n",
    "* Takes a list of file names\n",
    "* Returns those that are .xls files"
   ]
  },
  {
   "cell_type": "code",
   "execution_count": 26,
   "metadata": {
    "collapsed": true
   },
   "outputs": [],
   "source": [
    "# filter a list of files for xls files\n",
    "def get_xls(files):\n",
    "    r = []\n",
    "    for file in files:\n",
    "        if 'xls' in file:\n",
    "            r.append(file)\n",
    "    return r"
   ]
  },
  {
   "cell_type": "code",
   "execution_count": 1,
   "metadata": {},
   "outputs": [
    {
     "ename": "NameError",
     "evalue": "name 'get_files' is not defined",
     "output_type": "error",
     "traceback": [
      "\u001b[1;31m---------------------------------------------------------------------------\u001b[0m",
      "\u001b[1;31mNameError\u001b[0m                                 Traceback (most recent call last)",
      "\u001b[1;32m<ipython-input-1-13c33139efa1>\u001b[0m in \u001b[0;36m<module>\u001b[1;34m()\u001b[0m\n\u001b[0;32m      1\u001b[0m \u001b[0mfilepath\u001b[0m \u001b[1;33m=\u001b[0m \u001b[1;34m'1999_referenda/polling_places'\u001b[0m\u001b[1;33m\u001b[0m\u001b[0m\n\u001b[1;32m----> 2\u001b[1;33m \u001b[0mfiles\u001b[0m \u001b[1;33m=\u001b[0m \u001b[0mget_files\u001b[0m\u001b[1;33m(\u001b[0m\u001b[0mfilepath\u001b[0m\u001b[1;33m)\u001b[0m\u001b[1;33m\u001b[0m\u001b[0m\n\u001b[0m\u001b[0;32m      3\u001b[0m \u001b[0mfiles_xls\u001b[0m \u001b[1;33m=\u001b[0m \u001b[0mget_xls\u001b[0m\u001b[1;33m(\u001b[0m\u001b[0mfiles\u001b[0m\u001b[1;33m)\u001b[0m\u001b[1;33m\u001b[0m\u001b[0m\n\u001b[0;32m      4\u001b[0m \u001b[0mprint\u001b[0m\u001b[1;33m(\u001b[0m\u001b[0mfiles_xls\u001b[0m\u001b[1;33m[\u001b[0m\u001b[1;33m:\u001b[0m\u001b[1;36m4\u001b[0m\u001b[1;33m]\u001b[0m\u001b[1;33m)\u001b[0m\u001b[1;33m\u001b[0m\u001b[0m\n",
      "\u001b[1;31mNameError\u001b[0m: name 'get_files' is not defined"
     ]
    }
   ],
   "source": [
    "filepath = '1999_referenda/polling_places'\n",
    "files = get_files(filepath)\n",
    "files_xls = get_xls(files)\n",
    "print(files_xls[:4])"
   ]
  },
  {
   "cell_type": "markdown",
   "metadata": {},
   "source": [
    "#### `get_polling_places(filename, columns)`\n",
    "* Takes a path to a polling place file, and a list defining the columns we should end up with\n",
    "* Returns a data frame containing the rows that represented polling places\n",
    "\n",
    "#### A bit of an explanation\n",
    "\n",
    "The files are a bit of a mess, they look like this:\n",
    "\n",
    "![alt text](img/img1.png \"Title\")\n",
    "\n",
    "The approach I take below is to loop through each row of the spreadsheet, and\n",
    "* `if` the row doesn't have any blank cells in the first columns of the spreadsheet\n",
    "* and `if` the row doesn't begin with polling place name\n",
    "`then` append the row to a data frame\n",
    "\n",
    "Then I use the file name to add a state column\n",
    "\n",
    "This will result in code we can run across all the states spreadsheets to end up with one file"
   ]
  },
  {
   "cell_type": "code",
   "execution_count": 28,
   "metadata": {
    "collapsed": true
   },
   "outputs": [],
   "source": [
    "def get_polling_places(filename, columns):\n",
    "\n",
    "    # get data\n",
    "    x = xlrd.open_workbook(file)\n",
    "    x_sheet = x.sheet_by_index(0)\n",
    "    \n",
    "    # data frame to preserve outside loop\n",
    "    df_polling_places = pd.DataFrame()\n",
    "    \n",
    "    # for each row in the spreadsheet\n",
    "    for rowindex in range(x_sheet.nrows):\n",
    "        row_slice = x_sheet.row_slice(\n",
    "            rowx=rowindex, # take the index of this loop, 0 -> max rows\n",
    "            start_colx=0, # we care about the first 6 columns hence 0->6\n",
    "            end_colx=6\n",
    "        )\n",
    "        \n",
    "        # take keys off the row\n",
    "        row = []\n",
    "        for cell in row_slice:\n",
    "            row.append(cell.value)\n",
    "\n",
    "        # if there are any blank cells, this isn't a real row of data\n",
    "        if row.count('') == 0:\n",
    "            # except one of those rows is the header row, which we want to throw out as well\n",
    "            if row[0] != 'Polling Place Name':  \n",
    "\n",
    "                # make a data frame\n",
    "                df = pd.DataFrame(data=[row], columns = columns)\n",
    "\n",
    "                # if the data frame is empty, create it, if not, append to it\n",
    "                if df_polling_places.empty:\n",
    "                    df_polling_places = df\n",
    "                else:\n",
    "                    df_polling_places = df_polling_places.append(df)\n",
    "    \n",
    "    # work out state from filename\n",
    "    # state will be the chars from 3 chars after the final slash to .\n",
    "    # as the files are in the form 'ppsnt.xls'\n",
    "    \n",
    "    # everything after the final slash\n",
    "    needle = file.rfind('/')\n",
    "    length = len(file)\n",
    "    filepart = file[needle+1:length]\n",
    "    \n",
    "    # from the third char to the dot\n",
    "    needle = filepart.find('.')\n",
    "    state = filepart[3:needle].upper()\n",
    "    \n",
    "    # create state column\n",
    "    df_polling_places['state'] = state\n",
    "    \n",
    "    # put state column at front\n",
    "    \n",
    "    #Make a list of all of the columns in the df\n",
    "    cols = list(df_polling_places.columns.values)\n",
    "    \n",
    "    # remove state from the list\n",
    "    cols.pop(cols.index('state'))\n",
    "    \n",
    "    # put state at the front of this list\n",
    "    df_polling_places = df_polling_places[['state']+cols]\n",
    "    \n",
    "    return df_polling_places"
   ]
  },
  {
   "cell_type": "code",
   "execution_count": 29,
   "metadata": {},
   "outputs": [
    {
     "data": {
      "text/html": [
       "<div>\n",
       "<style>\n",
       "    .dataframe thead tr:only-child th {\n",
       "        text-align: right;\n",
       "    }\n",
       "\n",
       "    .dataframe thead th {\n",
       "        text-align: left;\n",
       "    }\n",
       "\n",
       "    .dataframe tbody tr th {\n",
       "        vertical-align: top;\n",
       "    }\n",
       "</style>\n",
       "<table border=\"1\" class=\"dataframe\">\n",
       "  <thead>\n",
       "    <tr style=\"text-align: right;\">\n",
       "      <th></th>\n",
       "      <th>state</th>\n",
       "      <th>polling_place</th>\n",
       "      <th>premises</th>\n",
       "      <th>address</th>\n",
       "      <th>suburb</th>\n",
       "      <th>postcode</th>\n",
       "      <th>wheelchair_access</th>\n",
       "    </tr>\n",
       "  </thead>\n",
       "  <tbody>\n",
       "    <tr>\n",
       "      <th>0</th>\n",
       "      <td>NT</td>\n",
       "      <td>Alice Springs</td>\n",
       "      <td>Civic Centre (Foyer)</td>\n",
       "      <td>Todd St</td>\n",
       "      <td>ALICE SPRINGS</td>\n",
       "      <td>870.0</td>\n",
       "      <td>F</td>\n",
       "    </tr>\n",
       "    <tr>\n",
       "      <th>0</th>\n",
       "      <td>NT</td>\n",
       "      <td>Alyangula</td>\n",
       "      <td>Alyangula Area School</td>\n",
       "      <td>Flinders St</td>\n",
       "      <td>ALYANGULA</td>\n",
       "      <td>885.0</td>\n",
       "      <td>F</td>\n",
       "    </tr>\n",
       "    <tr>\n",
       "      <th>0</th>\n",
       "      <td>NT</td>\n",
       "      <td>Anula</td>\n",
       "      <td>Anula Primary School</td>\n",
       "      <td>Yanyula Dr</td>\n",
       "      <td>ANULA</td>\n",
       "      <td>812.0</td>\n",
       "      <td>A</td>\n",
       "    </tr>\n",
       "    <tr>\n",
       "      <th>0</th>\n",
       "      <td>NT</td>\n",
       "      <td>Bakewell</td>\n",
       "      <td>Bakewell Primary School</td>\n",
       "      <td>Hutchison Tce</td>\n",
       "      <td>PALMERSTON</td>\n",
       "      <td>830.0</td>\n",
       "      <td>F</td>\n",
       "    </tr>\n",
       "    <tr>\n",
       "      <th>0</th>\n",
       "      <td>NT</td>\n",
       "      <td>Batchelor</td>\n",
       "      <td>Batchelor Area School</td>\n",
       "      <td>Nurndina St</td>\n",
       "      <td>BATCHELOR</td>\n",
       "      <td>845.0</td>\n",
       "      <td>F</td>\n",
       "    </tr>\n",
       "  </tbody>\n",
       "</table>\n",
       "</div>"
      ],
      "text/plain": [
       "  state  polling_place                 premises        address         suburb  \\\n",
       "0    NT  Alice Springs     Civic Centre (Foyer)        Todd St  ALICE SPRINGS   \n",
       "0    NT      Alyangula    Alyangula Area School    Flinders St      ALYANGULA   \n",
       "0    NT          Anula     Anula Primary School     Yanyula Dr          ANULA   \n",
       "0    NT       Bakewell  Bakewell Primary School  Hutchison Tce     PALMERSTON   \n",
       "0    NT      Batchelor    Batchelor Area School    Nurndina St      BATCHELOR   \n",
       "\n",
       "   postcode wheelchair_access  \n",
       "0     870.0                 F  \n",
       "0     885.0                 F  \n",
       "0     812.0                 A  \n",
       "0     830.0                 F  \n",
       "0     845.0                 F  "
      ]
     },
     "execution_count": 29,
     "metadata": {},
     "output_type": "execute_result"
    }
   ],
   "source": [
    "file = '1999_referenda/polling_places/ppsnt.xls'\n",
    "\n",
    "columns = [\n",
    "    'polling_place',\n",
    "    'premises',\n",
    "    'address',\n",
    "    'suburb',\n",
    "    'postcode',\n",
    "    'wheelchair_access'\n",
    "]\n",
    "\n",
    "get_polling_places(file, columns).head(5)"
   ]
  },
  {
   "cell_type": "markdown",
   "metadata": {},
   "source": [
    "### Run over each file, merge data frame"
   ]
  },
  {
   "cell_type": "code",
   "execution_count": 30,
   "metadata": {},
   "outputs": [
    {
     "data": {
      "text/html": [
       "<div>\n",
       "<style>\n",
       "    .dataframe thead tr:only-child th {\n",
       "        text-align: right;\n",
       "    }\n",
       "\n",
       "    .dataframe thead th {\n",
       "        text-align: left;\n",
       "    }\n",
       "\n",
       "    .dataframe tbody tr th {\n",
       "        vertical-align: top;\n",
       "    }\n",
       "</style>\n",
       "<table border=\"1\" class=\"dataframe\">\n",
       "  <thead>\n",
       "    <tr style=\"text-align: right;\">\n",
       "      <th></th>\n",
       "      <th>state</th>\n",
       "      <th>polling_place</th>\n",
       "      <th>premises</th>\n",
       "      <th>address</th>\n",
       "      <th>suburb</th>\n",
       "      <th>postcode</th>\n",
       "      <th>wheelchair_access</th>\n",
       "    </tr>\n",
       "  </thead>\n",
       "  <tbody>\n",
       "    <tr>\n",
       "      <th>0</th>\n",
       "      <td>ACT</td>\n",
       "      <td>Bonython</td>\n",
       "      <td>Bonython Primary School</td>\n",
       "      <td>Hurtle Ave</td>\n",
       "      <td>BONYTHON</td>\n",
       "      <td>2905.0</td>\n",
       "      <td>F</td>\n",
       "    </tr>\n",
       "    <tr>\n",
       "      <th>0</th>\n",
       "      <td>ACT</td>\n",
       "      <td>Calwell</td>\n",
       "      <td>Calwell High School</td>\n",
       "      <td>Casey Cres</td>\n",
       "      <td>CALWELL</td>\n",
       "      <td>2905.0</td>\n",
       "      <td>F</td>\n",
       "    </tr>\n",
       "    <tr>\n",
       "      <th>0</th>\n",
       "      <td>ACT</td>\n",
       "      <td>Canberra Hospital</td>\n",
       "      <td>The Canberra Hospital</td>\n",
       "      <td>Blding 2 Level 3 Yamba Dr</td>\n",
       "      <td>GARRAN</td>\n",
       "      <td>2605.0</td>\n",
       "      <td>F</td>\n",
       "    </tr>\n",
       "  </tbody>\n",
       "</table>\n",
       "</div>"
      ],
      "text/plain": [
       "  state      polling_place                 premises  \\\n",
       "0   ACT           Bonython  Bonython Primary School   \n",
       "0   ACT            Calwell      Calwell High School   \n",
       "0   ACT  Canberra Hospital    The Canberra Hospital   \n",
       "\n",
       "                     address    suburb  postcode wheelchair_access  \n",
       "0                 Hurtle Ave  BONYTHON    2905.0                 F  \n",
       "0                 Casey Cres   CALWELL    2905.0                 F  \n",
       "0  Blding 2 Level 3 Yamba Dr    GARRAN    2605.0                 F  "
      ]
     },
     "execution_count": 30,
     "metadata": {},
     "output_type": "execute_result"
    }
   ],
   "source": [
    "filepath = '1999_referenda/polling_places/'\n",
    "\n",
    "columns = [\n",
    "    'polling_place',\n",
    "    'premises',\n",
    "    'address',\n",
    "    'suburb',\n",
    "    'postcode',\n",
    "    'wheelchair_access'\n",
    "]\n",
    "\n",
    "# get xls files from filepath\n",
    "files = get_files(filepath)\n",
    "files_xls = get_xls(files)\n",
    "\n",
    "df_polling_places = pd.DataFrame()\n",
    "\n",
    "for file in files_xls:\n",
    "    \n",
    "    file = filepath + file\n",
    "    df = get_polling_places(file, columns)\n",
    "\n",
    "    # if the data frame is empty, create it, if not, append to it\n",
    "    if df_polling_places.empty:\n",
    "        df_polling_places = df\n",
    "    else:\n",
    "        df_polling_places = df_polling_places.append(df)\n",
    "\n",
    "df_polling_places.head(3)"
   ]
  },
  {
   "cell_type": "markdown",
   "metadata": {},
   "source": [
    "### Dedup polling places\n",
    "Where polling places occur across multiple seats, they have the naming scheme:\n",
    "<br />`['Pakenham Upper (La Trobe)','Pakenham Upper (McMillan)']`\n",
    "\n",
    "This code strips those fields both to `'Pakenham Upper'`, and then deduplicates them"
   ]
  },
  {
   "cell_type": "markdown",
   "metadata": {},
   "source": [
    "#### `left_of_bracket(s)`\n",
    "* takes string\n",
    "    * if string contains left bracket, returns whatever occurs before the bracket\n",
    "    * if string doesn't contain left bracket, returns whole string"
   ]
  },
  {
   "cell_type": "code",
   "execution_count": 33,
   "metadata": {
    "collapsed": true
   },
   "outputs": [],
   "source": [
    "def left_of_bracket(s):\n",
    "    if '(' in s:\n",
    "        needle = s.find('(')\n",
    "        r = s[:needle-1].strip()\n",
    "        return r\n",
    "    else:\n",
    "        return s"
   ]
  },
  {
   "cell_type": "code",
   "execution_count": 34,
   "metadata": {},
   "outputs": [
    {
     "name": "stdout",
     "output_type": "stream",
     "text": [
      "Croydon Park\n",
      "Croydon Park West\n"
     ]
    }
   ],
   "source": [
    "print(left_of_bracket('Croydon Park'))\n",
    "print(left_of_bracket('Croydon Park West (Adelaide)'))"
   ]
  },
  {
   "cell_type": "code",
   "execution_count": 36,
   "metadata": {},
   "outputs": [
    {
     "name": "stdout",
     "output_type": "stream",
     "text": [
      "inital num rows: 7335\n",
      "final num rows: 7050\n"
     ]
    }
   ],
   "source": [
    "# initial number of rows\n",
    "print('inital num rows: ' +  str(len(df_polling_places.index)))\n",
    "\n",
    "# for each value, return the value of left_of_bracket\n",
    "# left_of_bracket returns a whole string, or\n",
    "# if it contains a (, whatever is to the left of it\n",
    "lambda_polling_places = lambda x: left_of_bracket(x)\n",
    "\n",
    "# update polling place column\n",
    "df_polling_places['polling_place'] = df_polling_places['polling_place'].apply(lambda_polling_places)\n",
    "\n",
    "# deduplicate\n",
    "df_polling_places = df_polling_places.drop_duplicates()\n",
    "\n",
    "# print final number of rows\n",
    "print('final num rows: ' +  str(len(df_polling_places.index)))"
   ]
  },
  {
   "cell_type": "markdown",
   "metadata": {},
   "source": [
    "### Save polling places to csv"
   ]
  },
  {
   "cell_type": "code",
   "execution_count": 32,
   "metadata": {
    "collapsed": true
   },
   "outputs": [],
   "source": [
    "outfile = '1999_referenda_output/polling_places.csv'\n",
    "\n",
    "df_polling_places.to_csv(\n",
    "    outfile,\n",
    "    sep=',',\n",
    "    index=False,\n",
    "    encoding='UTF8'\n",
    ")"
   ]
  }
 ],
 "metadata": {
  "kernelspec": {
   "display_name": "Python 3",
   "language": "python",
   "name": "python3"
  },
  "language_info": {
   "codemirror_mode": {
    "name": "ipython",
    "version": 3
   },
   "file_extension": ".py",
   "mimetype": "text/x-python",
   "name": "python",
   "nbconvert_exporter": "python",
   "pygments_lexer": "ipython3",
   "version": "3.6.1"
  }
 },
 "nbformat": 4,
 "nbformat_minor": 2
}
